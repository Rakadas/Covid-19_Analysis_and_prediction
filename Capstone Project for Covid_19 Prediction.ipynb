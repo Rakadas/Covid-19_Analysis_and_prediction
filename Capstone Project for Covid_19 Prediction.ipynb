{
 "cells": [
  {
   "cell_type": "markdown",
   "id": "afd298a3",
   "metadata": {},
   "source": [
    "# Importance of the Project"
   ]
  },
  {
   "cell_type": "markdown",
   "id": "2124b932",
   "metadata": {},
   "source": [
    "The COVID-19 pandemic has caused significant disruption globally, and the situation continues to evolve. The analysis and prediction of COVID-19 spread are essential for effective public health policies and prevention strategies. This project aims to analyze COVID-19 data from various sources and develop models to predict the future spread of the virus."
   ]
  },
  {
   "cell_type": "markdown",
   "id": "343d39c4",
   "metadata": {},
   "source": [
    "<h5>Q.Why is your proposal important in today’s world? How predicting a disease accurately can improve medical treatment?\n",
    "    "
   ]
  },
  {
   "cell_type": "markdown",
   "id": "411f927f",
   "metadata": {},
   "source": [
    "In the context of the COVID-19 pandemic, accurate disease prediction has been instrumental in guiding public health responses worldwide. Predictive models have helped in estimating infection rates, identifying high-risk areas, and guiding vaccination strategies, thereby enabling a more effective and targeted approach to pandemic management.\n",
    "\n",
    "Overall, accurate disease prediction enhances our ability to proactively address health challenges, improve treatment outcomes, allocate resources efficiently, and inform public health decision-making. It is an invaluable tool in today's world, particularly in the face of emerging infectious diseases and other health threats."
   ]
  },
  {
   "cell_type": "markdown",
   "id": "5a85bcba",
   "metadata": {},
   "source": [
    "<h4>Q.How is it going to impact the medical field when it comes to effective screening and reducing health care burden."
   ]
  },
  {
   "cell_type": "markdown",
   "id": "9d39be89",
   "metadata": {},
   "source": [
    "Accurate disease prediction empowers the medical field to implement effective screening strategies, prioritize resources, provide personalized care, and reduce the healthcare burden.\n",
    "\n",
    "By identifying individuals at higher risk and intervening early, we can shift the focus from reactive care to proactive prevention, resulting in improved patient outcomes and more efficient healthcare systems."
   ]
  },
  {
   "cell_type": "markdown",
   "id": "7820a674",
   "metadata": {},
   "source": [
    "<h4>Q.If any, what is the gap in the knowledge or how your proposed method can be helpful if required in future for any other disease."
   ]
  },
  {
   "cell_type": "markdown",
   "id": "1293cd63",
   "metadata": {},
   "source": [
    "This project can serve as a valuable foundation for future disease prediction endeavors. Here are some potential knowledge gaps and the potential helpfulness of this proposed method for future diseases:\n",
    "\n",
    "<h6>Knowledge gaps:</h6>\n",
    "    \n",
    "a. Limited data availability: Depending on the stage of a disease outbreak or emergence, there may be limited data available for training and validating predictive models. This lack of data can pose challenges in developing accurate and reliable models.\n",
    "\n",
    "b. Unique disease characteristics: Different diseases have distinct characteristics in terms of transmission, symptoms, and epidemiology. Therefore, this model, specifically designed for COVID-19, may not directly translate to other diseases without considering disease-specific factors and modifying the model accordingly.\n",
    "\n",
    "c. Evolving nature of diseases: As mentioned earlier, diseases can evolve over time, requiring continuous updates and adaptations of predictive models to incorporate new information and patterns. Ongoing monitoring and model refinement are necessary to account for changes in disease dynamics.\n",
    "\n",
    "<h6>Potential helpfulness:</h6>\n",
    "    \n",
    "a. Transferable techniques: The techniques and methodologies employed in this project, such as feature engineering, model selection, and evaluation metrics, can serve as a valuable reference for future disease prediction projects. The knowledge and experience gained from this project can be applied to develop prediction models for other diseases.\n",
    "\n",
    "b. Data management and preprocessing: Handling and preprocessing large-scale health data, as i likely did in this project, can provide insights into the challenges and best practices for data management. These skills can be transferable to future disease prediction projects, streamlining the data preprocessing stage.\n",
    "\n",
    "c. Model architecture and evaluation: The machine learning model i developed can serve as a starting point for future disease prediction projects. While it may require modifications and adjustments to suit the specific characteristics of other diseases, the architecture and evaluation methods can provide a solid foundation for building new models.\n",
    "\n",
    "<h6>This project would have provided insights into the strengths and limitations of the predictive model for COVID-19. Documenting these lessons learned, including the challenges faced and the strategies employed to address them, can be valuable knowledge for future researchers and practitioners working on disease prediction.</h6>"
   ]
  },
  {
   "cell_type": "markdown",
   "id": "6c0cb25a",
   "metadata": {},
   "source": [
    "# Dataset Description\n",
    "\n",
    "Dataset contails symptoms of patients which is crucial to identify the infection of covid. Columns are categorical in nature. Details of the columns are :\n",
    "\n",
    "- ID (Individual ID)\n",
    "\n",
    "- Sex (male/female).\n",
    "\n",
    "- Age ≥60 above years (true/false)\n",
    "\n",
    "- Test date (date when tested for COVID)\n",
    "\n",
    "- Cough (true/false).\n",
    "\n",
    "- Fever (true/false).\n",
    "\n",
    "- Sore throat (true/false).\n",
    "\n",
    "- Shortness of breath (true/false).\n",
    "\n",
    "- Headache (true/false).\n",
    "\n",
    "Known contact with an individual confirmed to have COVID-19 (true/false).\n",
    "Corona positive or negative\n",
    "\n",
    "\n"
   ]
  },
  {
   "cell_type": "markdown",
   "id": "01ac9d22",
   "metadata": {},
   "source": [
    "# Import dependencies"
   ]
  },
  {
   "cell_type": "code",
   "execution_count": 1,
   "id": "569cf8ba",
   "metadata": {},
   "outputs": [],
   "source": [
    "import numpy as np\n",
    "import pandas as pd\n",
    "import matplotlib.pyplot as plt\n",
    "import seaborn as sns"
   ]
  },
  {
   "cell_type": "code",
   "execution_count": 2,
   "id": "5ba336a3",
   "metadata": {},
   "outputs": [],
   "source": [
    "\n",
    "from sklearn.model_selection import train_test_split\n",
    "\n",
    "from sklearn.ensemble import RandomForestClassifier\n",
    "from sklearn.tree import DecisionTreeClassifier\n",
    "from sklearn.naive_bayes import GaussianNB\n",
    "from sklearn.svm import SVC\n",
    "\n",
    "\n",
    "from sklearn.model_selection import GridSearchCV\n",
    "from sklearn.metrics import accuracy_score, make_scorer, recall_score,precision_score,f1_score,roc_curve, auc, confusion_matrix"
   ]
  },
  {
   "cell_type": "code",
   "execution_count": 3,
   "id": "0a9abb0c",
   "metadata": {},
   "outputs": [],
   "source": [
    "import warnings\n",
    "warnings.filterwarnings('ignore')"
   ]
  },
  {
   "cell_type": "markdown",
   "id": "13df2788",
   "metadata": {},
   "source": [
    "# Load dataset"
   ]
  },
  {
   "cell_type": "code",
   "execution_count": 4,
   "id": "0217cd98",
   "metadata": {},
   "outputs": [],
   "source": [
    "covid = pd.read_csv('corona_tested_006.csv')"
   ]
  },
  {
   "cell_type": "code",
   "execution_count": 5,
   "id": "7aa89cc6",
   "metadata": {},
   "outputs": [
    {
     "data": {
      "text/html": [
       "<div>\n",
       "<style scoped>\n",
       "    .dataframe tbody tr th:only-of-type {\n",
       "        vertical-align: middle;\n",
       "    }\n",
       "\n",
       "    .dataframe tbody tr th {\n",
       "        vertical-align: top;\n",
       "    }\n",
       "\n",
       "    .dataframe thead th {\n",
       "        text-align: right;\n",
       "    }\n",
       "</style>\n",
       "<table border=\"1\" class=\"dataframe\">\n",
       "  <thead>\n",
       "    <tr style=\"text-align: right;\">\n",
       "      <th></th>\n",
       "      <th>Ind_ID</th>\n",
       "      <th>Test_date</th>\n",
       "      <th>Cough_symptoms</th>\n",
       "      <th>Fever</th>\n",
       "      <th>Sore_throat</th>\n",
       "      <th>Shortness_of_breath</th>\n",
       "      <th>Headache</th>\n",
       "      <th>Corona</th>\n",
       "      <th>Age_60_above</th>\n",
       "      <th>Sex</th>\n",
       "      <th>Known_contact</th>\n",
       "    </tr>\n",
       "  </thead>\n",
       "  <tbody>\n",
       "    <tr>\n",
       "      <th>0</th>\n",
       "      <td>1</td>\n",
       "      <td>11-03-2020</td>\n",
       "      <td>TRUE</td>\n",
       "      <td>FALSE</td>\n",
       "      <td>TRUE</td>\n",
       "      <td>FALSE</td>\n",
       "      <td>FALSE</td>\n",
       "      <td>negative</td>\n",
       "      <td>None</td>\n",
       "      <td>None</td>\n",
       "      <td>Abroad</td>\n",
       "    </tr>\n",
       "    <tr>\n",
       "      <th>1</th>\n",
       "      <td>2</td>\n",
       "      <td>11-03-2020</td>\n",
       "      <td>FALSE</td>\n",
       "      <td>TRUE</td>\n",
       "      <td>FALSE</td>\n",
       "      <td>FALSE</td>\n",
       "      <td>FALSE</td>\n",
       "      <td>positive</td>\n",
       "      <td>None</td>\n",
       "      <td>None</td>\n",
       "      <td>Abroad</td>\n",
       "    </tr>\n",
       "    <tr>\n",
       "      <th>2</th>\n",
       "      <td>3</td>\n",
       "      <td>11-03-2020</td>\n",
       "      <td>FALSE</td>\n",
       "      <td>TRUE</td>\n",
       "      <td>FALSE</td>\n",
       "      <td>FALSE</td>\n",
       "      <td>FALSE</td>\n",
       "      <td>positive</td>\n",
       "      <td>None</td>\n",
       "      <td>None</td>\n",
       "      <td>Abroad</td>\n",
       "    </tr>\n",
       "    <tr>\n",
       "      <th>3</th>\n",
       "      <td>4</td>\n",
       "      <td>11-03-2020</td>\n",
       "      <td>TRUE</td>\n",
       "      <td>FALSE</td>\n",
       "      <td>FALSE</td>\n",
       "      <td>FALSE</td>\n",
       "      <td>FALSE</td>\n",
       "      <td>negative</td>\n",
       "      <td>None</td>\n",
       "      <td>None</td>\n",
       "      <td>Abroad</td>\n",
       "    </tr>\n",
       "    <tr>\n",
       "      <th>4</th>\n",
       "      <td>5</td>\n",
       "      <td>11-03-2020</td>\n",
       "      <td>TRUE</td>\n",
       "      <td>FALSE</td>\n",
       "      <td>FALSE</td>\n",
       "      <td>FALSE</td>\n",
       "      <td>FALSE</td>\n",
       "      <td>negative</td>\n",
       "      <td>None</td>\n",
       "      <td>None</td>\n",
       "      <td>Contact with confirmed</td>\n",
       "    </tr>\n",
       "  </tbody>\n",
       "</table>\n",
       "</div>"
      ],
      "text/plain": [
       "   Ind_ID   Test_date Cough_symptoms  Fever Sore_throat Shortness_of_breath  \\\n",
       "0       1  11-03-2020           TRUE  FALSE        TRUE               FALSE   \n",
       "1       2  11-03-2020          FALSE   TRUE       FALSE               FALSE   \n",
       "2       3  11-03-2020          FALSE   TRUE       FALSE               FALSE   \n",
       "3       4  11-03-2020           TRUE  FALSE       FALSE               FALSE   \n",
       "4       5  11-03-2020           TRUE  FALSE       FALSE               FALSE   \n",
       "\n",
       "  Headache    Corona Age_60_above   Sex           Known_contact  \n",
       "0    FALSE  negative         None  None                  Abroad  \n",
       "1    FALSE  positive         None  None                  Abroad  \n",
       "2    FALSE  positive         None  None                  Abroad  \n",
       "3    FALSE  negative         None  None                  Abroad  \n",
       "4    FALSE  negative         None  None  Contact with confirmed  "
      ]
     },
     "execution_count": 5,
     "metadata": {},
     "output_type": "execute_result"
    }
   ],
   "source": [
    "covid.head()  #First 5 rows"
   ]
  },
  {
   "cell_type": "code",
   "execution_count": 6,
   "id": "8081c878",
   "metadata": {},
   "outputs": [
    {
     "name": "stdout",
     "output_type": "stream",
     "text": [
      "<class 'pandas.core.frame.DataFrame'>\n",
      "RangeIndex: 278848 entries, 0 to 278847\n",
      "Data columns (total 11 columns):\n",
      " #   Column               Non-Null Count   Dtype \n",
      "---  ------               --------------   ----- \n",
      " 0   Ind_ID               278848 non-null  int64 \n",
      " 1   Test_date            278848 non-null  object\n",
      " 2   Cough_symptoms       278848 non-null  object\n",
      " 3   Fever                278848 non-null  object\n",
      " 4   Sore_throat          278848 non-null  object\n",
      " 5   Shortness_of_breath  278848 non-null  object\n",
      " 6   Headache             278848 non-null  object\n",
      " 7   Corona               278848 non-null  object\n",
      " 8   Age_60_above         278848 non-null  object\n",
      " 9   Sex                  278848 non-null  object\n",
      " 10  Known_contact        278848 non-null  object\n",
      "dtypes: int64(1), object(10)\n",
      "memory usage: 23.4+ MB\n"
     ]
    }
   ],
   "source": [
    "covid.info()"
   ]
  },
  {
   "cell_type": "code",
   "execution_count": 7,
   "id": "96c51f2e",
   "metadata": {},
   "outputs": [
    {
     "data": {
      "text/html": [
       "<div>\n",
       "<style scoped>\n",
       "    .dataframe tbody tr th:only-of-type {\n",
       "        vertical-align: middle;\n",
       "    }\n",
       "\n",
       "    .dataframe tbody tr th {\n",
       "        vertical-align: top;\n",
       "    }\n",
       "\n",
       "    .dataframe thead th {\n",
       "        text-align: right;\n",
       "    }\n",
       "</style>\n",
       "<table border=\"1\" class=\"dataframe\">\n",
       "  <thead>\n",
       "    <tr style=\"text-align: right;\">\n",
       "      <th></th>\n",
       "      <th>Ind_ID</th>\n",
       "      <th>Test_date</th>\n",
       "      <th>Cough_symptoms</th>\n",
       "      <th>Fever</th>\n",
       "      <th>Sore_throat</th>\n",
       "      <th>Shortness_of_breath</th>\n",
       "      <th>Headache</th>\n",
       "      <th>Corona</th>\n",
       "      <th>Age_60_above</th>\n",
       "      <th>Sex</th>\n",
       "      <th>Known_contact</th>\n",
       "    </tr>\n",
       "  </thead>\n",
       "  <tbody>\n",
       "    <tr>\n",
       "      <th>224326</th>\n",
       "      <td>224327</td>\n",
       "      <td>22-04-2020</td>\n",
       "      <td>False</td>\n",
       "      <td>False</td>\n",
       "      <td>False</td>\n",
       "      <td>False</td>\n",
       "      <td>False</td>\n",
       "      <td>negative</td>\n",
       "      <td>None</td>\n",
       "      <td>male</td>\n",
       "      <td>Other</td>\n",
       "    </tr>\n",
       "    <tr>\n",
       "      <th>90081</th>\n",
       "      <td>90082</td>\n",
       "      <td>03-04-2020</td>\n",
       "      <td>FALSE</td>\n",
       "      <td>FALSE</td>\n",
       "      <td>False</td>\n",
       "      <td>False</td>\n",
       "      <td>False</td>\n",
       "      <td>negative</td>\n",
       "      <td>No</td>\n",
       "      <td>female</td>\n",
       "      <td>Other</td>\n",
       "    </tr>\n",
       "    <tr>\n",
       "      <th>124988</th>\n",
       "      <td>124989</td>\n",
       "      <td>09-04-2020</td>\n",
       "      <td>FALSE</td>\n",
       "      <td>FALSE</td>\n",
       "      <td>False</td>\n",
       "      <td>False</td>\n",
       "      <td>False</td>\n",
       "      <td>negative</td>\n",
       "      <td>No</td>\n",
       "      <td>female</td>\n",
       "      <td>Abroad</td>\n",
       "    </tr>\n",
       "    <tr>\n",
       "      <th>119082</th>\n",
       "      <td>119083</td>\n",
       "      <td>08-04-2020</td>\n",
       "      <td>FALSE</td>\n",
       "      <td>FALSE</td>\n",
       "      <td>False</td>\n",
       "      <td>False</td>\n",
       "      <td>False</td>\n",
       "      <td>negative</td>\n",
       "      <td>No</td>\n",
       "      <td>male</td>\n",
       "      <td>Other</td>\n",
       "    </tr>\n",
       "    <tr>\n",
       "      <th>138143</th>\n",
       "      <td>138144</td>\n",
       "      <td>12-04-2020</td>\n",
       "      <td>False</td>\n",
       "      <td>False</td>\n",
       "      <td>False</td>\n",
       "      <td>False</td>\n",
       "      <td>False</td>\n",
       "      <td>negative</td>\n",
       "      <td>Yes</td>\n",
       "      <td>male</td>\n",
       "      <td>Other</td>\n",
       "    </tr>\n",
       "    <tr>\n",
       "      <th>174243</th>\n",
       "      <td>174244</td>\n",
       "      <td>17-04-2020</td>\n",
       "      <td>False</td>\n",
       "      <td>False</td>\n",
       "      <td>False</td>\n",
       "      <td>False</td>\n",
       "      <td>False</td>\n",
       "      <td>negative</td>\n",
       "      <td>None</td>\n",
       "      <td>female</td>\n",
       "      <td>Other</td>\n",
       "    </tr>\n",
       "    <tr>\n",
       "      <th>270549</th>\n",
       "      <td>270550</td>\n",
       "      <td>29-04-2020</td>\n",
       "      <td>False</td>\n",
       "      <td>False</td>\n",
       "      <td>False</td>\n",
       "      <td>False</td>\n",
       "      <td>False</td>\n",
       "      <td>negative</td>\n",
       "      <td>None</td>\n",
       "      <td>male</td>\n",
       "      <td>Other</td>\n",
       "    </tr>\n",
       "    <tr>\n",
       "      <th>241346</th>\n",
       "      <td>241347</td>\n",
       "      <td>24-04-2020</td>\n",
       "      <td>False</td>\n",
       "      <td>False</td>\n",
       "      <td>False</td>\n",
       "      <td>False</td>\n",
       "      <td>False</td>\n",
       "      <td>other</td>\n",
       "      <td>None</td>\n",
       "      <td>female</td>\n",
       "      <td>Other</td>\n",
       "    </tr>\n",
       "    <tr>\n",
       "      <th>194508</th>\n",
       "      <td>194509</td>\n",
       "      <td>19-04-2020</td>\n",
       "      <td>False</td>\n",
       "      <td>False</td>\n",
       "      <td>False</td>\n",
       "      <td>False</td>\n",
       "      <td>False</td>\n",
       "      <td>negative</td>\n",
       "      <td>None</td>\n",
       "      <td>female</td>\n",
       "      <td>Other</td>\n",
       "    </tr>\n",
       "    <tr>\n",
       "      <th>106259</th>\n",
       "      <td>106260</td>\n",
       "      <td>06-04-2020</td>\n",
       "      <td>FALSE</td>\n",
       "      <td>FALSE</td>\n",
       "      <td>False</td>\n",
       "      <td>False</td>\n",
       "      <td>False</td>\n",
       "      <td>positive</td>\n",
       "      <td>No</td>\n",
       "      <td>female</td>\n",
       "      <td>Contact with confirmed</td>\n",
       "    </tr>\n",
       "  </tbody>\n",
       "</table>\n",
       "</div>"
      ],
      "text/plain": [
       "        Ind_ID   Test_date Cough_symptoms  Fever Sore_throat  \\\n",
       "224326  224327  22-04-2020          False  False       False   \n",
       "90081    90082  03-04-2020          FALSE  FALSE       False   \n",
       "124988  124989  09-04-2020          FALSE  FALSE       False   \n",
       "119082  119083  08-04-2020          FALSE  FALSE       False   \n",
       "138143  138144  12-04-2020          False  False       False   \n",
       "174243  174244  17-04-2020          False  False       False   \n",
       "270549  270550  29-04-2020          False  False       False   \n",
       "241346  241347  24-04-2020          False  False       False   \n",
       "194508  194509  19-04-2020          False  False       False   \n",
       "106259  106260  06-04-2020          FALSE  FALSE       False   \n",
       "\n",
       "       Shortness_of_breath Headache    Corona Age_60_above     Sex  \\\n",
       "224326               False    False  negative         None    male   \n",
       "90081                False    False  negative           No  female   \n",
       "124988               False    False  negative           No  female   \n",
       "119082               False    False  negative           No    male   \n",
       "138143               False    False  negative          Yes    male   \n",
       "174243               False    False  negative         None  female   \n",
       "270549               False    False  negative         None    male   \n",
       "241346               False    False     other         None  female   \n",
       "194508               False    False  negative         None  female   \n",
       "106259               False    False  positive           No  female   \n",
       "\n",
       "                 Known_contact  \n",
       "224326                   Other  \n",
       "90081                    Other  \n",
       "124988                  Abroad  \n",
       "119082                   Other  \n",
       "138143                   Other  \n",
       "174243                   Other  \n",
       "270549                   Other  \n",
       "241346                   Other  \n",
       "194508                   Other  \n",
       "106259  Contact with confirmed  "
      ]
     },
     "execution_count": 7,
     "metadata": {},
     "output_type": "execute_result"
    }
   ],
   "source": [
    "covid.sample(10)"
   ]
  },
  {
   "cell_type": "markdown",
   "id": "c450be46",
   "metadata": {},
   "source": [
    "# Data cleaning"
   ]
  },
  {
   "cell_type": "markdown",
   "id": "c4dc16e5",
   "metadata": {},
   "source": [
    "Covid symptoms 'FALSE' or 'False'. In english meaning is same but python interprets as different."
   ]
  },
  {
   "cell_type": "code",
   "execution_count": 8,
   "id": "aa532081",
   "metadata": {},
   "outputs": [],
   "source": [
    "#Defining a function to convert the data.\n",
    "def convert(x):\n",
    "    if x=='TRUE':\n",
    "        return 'true'\n",
    "    elif x==True:\n",
    "        return 'true'\n",
    "    elif x=='FALSE' or x==False:\n",
    "        return 'false'\n",
    "    else:\n",
    "        return x"
   ]
  },
  {
   "cell_type": "code",
   "execution_count": 9,
   "id": "828d2c02",
   "metadata": {},
   "outputs": [],
   "source": [
    "#Using map function convert the value into same type.\n",
    "\n",
    "covid['Cough_symptoms'] = covid['Cough_symptoms'].apply(convert)\n",
    "covid['Fever'] = covid['Fever'].apply(convert)\n",
    "covid['Sore_throat'] = covid['Sore_throat'].apply(convert)\n",
    "covid['Shortness_of_breath'] = covid['Shortness_of_breath'].apply(convert)\n",
    "covid['Headache'] = covid['Headache'].apply(convert)"
   ]
  },
  {
   "cell_type": "code",
   "execution_count": 10,
   "id": "50dbc400",
   "metadata": {},
   "outputs": [
    {
     "data": {
      "text/html": [
       "<div>\n",
       "<style scoped>\n",
       "    .dataframe tbody tr th:only-of-type {\n",
       "        vertical-align: middle;\n",
       "    }\n",
       "\n",
       "    .dataframe tbody tr th {\n",
       "        vertical-align: top;\n",
       "    }\n",
       "\n",
       "    .dataframe thead th {\n",
       "        text-align: right;\n",
       "    }\n",
       "</style>\n",
       "<table border=\"1\" class=\"dataframe\">\n",
       "  <thead>\n",
       "    <tr style=\"text-align: right;\">\n",
       "      <th></th>\n",
       "      <th>Ind_ID</th>\n",
       "      <th>Test_date</th>\n",
       "      <th>Cough_symptoms</th>\n",
       "      <th>Fever</th>\n",
       "      <th>Sore_throat</th>\n",
       "      <th>Shortness_of_breath</th>\n",
       "      <th>Headache</th>\n",
       "      <th>Corona</th>\n",
       "      <th>Age_60_above</th>\n",
       "      <th>Sex</th>\n",
       "      <th>Known_contact</th>\n",
       "    </tr>\n",
       "  </thead>\n",
       "  <tbody>\n",
       "    <tr>\n",
       "      <th>266536</th>\n",
       "      <td>266537</td>\n",
       "      <td>28-04-2020</td>\n",
       "      <td>false</td>\n",
       "      <td>false</td>\n",
       "      <td>false</td>\n",
       "      <td>false</td>\n",
       "      <td>false</td>\n",
       "      <td>negative</td>\n",
       "      <td>None</td>\n",
       "      <td>female</td>\n",
       "      <td>Other</td>\n",
       "    </tr>\n",
       "    <tr>\n",
       "      <th>60195</th>\n",
       "      <td>60196</td>\n",
       "      <td>30-03-2020</td>\n",
       "      <td>false</td>\n",
       "      <td>false</td>\n",
       "      <td>false</td>\n",
       "      <td>false</td>\n",
       "      <td>false</td>\n",
       "      <td>negative</td>\n",
       "      <td>No</td>\n",
       "      <td>male</td>\n",
       "      <td>Other</td>\n",
       "    </tr>\n",
       "    <tr>\n",
       "      <th>205505</th>\n",
       "      <td>205506</td>\n",
       "      <td>20-04-2020</td>\n",
       "      <td>false</td>\n",
       "      <td>false</td>\n",
       "      <td>false</td>\n",
       "      <td>false</td>\n",
       "      <td>false</td>\n",
       "      <td>negative</td>\n",
       "      <td>None</td>\n",
       "      <td>female</td>\n",
       "      <td>Other</td>\n",
       "    </tr>\n",
       "    <tr>\n",
       "      <th>277543</th>\n",
       "      <td>277544</td>\n",
       "      <td>30-04-2020</td>\n",
       "      <td>false</td>\n",
       "      <td>false</td>\n",
       "      <td>false</td>\n",
       "      <td>false</td>\n",
       "      <td>false</td>\n",
       "      <td>negative</td>\n",
       "      <td>None</td>\n",
       "      <td>female</td>\n",
       "      <td>Other</td>\n",
       "    </tr>\n",
       "    <tr>\n",
       "      <th>153169</th>\n",
       "      <td>153170</td>\n",
       "      <td>14-04-2020</td>\n",
       "      <td>true</td>\n",
       "      <td>false</td>\n",
       "      <td>false</td>\n",
       "      <td>false</td>\n",
       "      <td>false</td>\n",
       "      <td>negative</td>\n",
       "      <td>No</td>\n",
       "      <td>female</td>\n",
       "      <td>Other</td>\n",
       "    </tr>\n",
       "    <tr>\n",
       "      <th>88224</th>\n",
       "      <td>88225</td>\n",
       "      <td>03-04-2020</td>\n",
       "      <td>false</td>\n",
       "      <td>false</td>\n",
       "      <td>false</td>\n",
       "      <td>false</td>\n",
       "      <td>false</td>\n",
       "      <td>negative</td>\n",
       "      <td>No</td>\n",
       "      <td>male</td>\n",
       "      <td>Other</td>\n",
       "    </tr>\n",
       "    <tr>\n",
       "      <th>213208</th>\n",
       "      <td>213209</td>\n",
       "      <td>21-04-2020</td>\n",
       "      <td>false</td>\n",
       "      <td>false</td>\n",
       "      <td>false</td>\n",
       "      <td>false</td>\n",
       "      <td>false</td>\n",
       "      <td>negative</td>\n",
       "      <td>None</td>\n",
       "      <td>female</td>\n",
       "      <td>Other</td>\n",
       "    </tr>\n",
       "    <tr>\n",
       "      <th>158470</th>\n",
       "      <td>158471</td>\n",
       "      <td>15-04-2020</td>\n",
       "      <td>false</td>\n",
       "      <td>false</td>\n",
       "      <td>false</td>\n",
       "      <td>false</td>\n",
       "      <td>false</td>\n",
       "      <td>negative</td>\n",
       "      <td>None</td>\n",
       "      <td>male</td>\n",
       "      <td>Other</td>\n",
       "    </tr>\n",
       "    <tr>\n",
       "      <th>105645</th>\n",
       "      <td>105646</td>\n",
       "      <td>06-04-2020</td>\n",
       "      <td>false</td>\n",
       "      <td>false</td>\n",
       "      <td>false</td>\n",
       "      <td>false</td>\n",
       "      <td>false</td>\n",
       "      <td>negative</td>\n",
       "      <td>No</td>\n",
       "      <td>male</td>\n",
       "      <td>Other</td>\n",
       "    </tr>\n",
       "    <tr>\n",
       "      <th>32769</th>\n",
       "      <td>32770</td>\n",
       "      <td>26-03-2020</td>\n",
       "      <td>false</td>\n",
       "      <td>false</td>\n",
       "      <td>false</td>\n",
       "      <td>false</td>\n",
       "      <td>false</td>\n",
       "      <td>negative</td>\n",
       "      <td>No</td>\n",
       "      <td>female</td>\n",
       "      <td>Other</td>\n",
       "    </tr>\n",
       "  </tbody>\n",
       "</table>\n",
       "</div>"
      ],
      "text/plain": [
       "        Ind_ID   Test_date Cough_symptoms  Fever Sore_throat  \\\n",
       "266536  266537  28-04-2020          false  false       false   \n",
       "60195    60196  30-03-2020          false  false       false   \n",
       "205505  205506  20-04-2020          false  false       false   \n",
       "277543  277544  30-04-2020          false  false       false   \n",
       "153169  153170  14-04-2020           true  false       false   \n",
       "88224    88225  03-04-2020          false  false       false   \n",
       "213208  213209  21-04-2020          false  false       false   \n",
       "158470  158471  15-04-2020          false  false       false   \n",
       "105645  105646  06-04-2020          false  false       false   \n",
       "32769    32770  26-03-2020          false  false       false   \n",
       "\n",
       "       Shortness_of_breath Headache    Corona Age_60_above     Sex  \\\n",
       "266536               false    false  negative         None  female   \n",
       "60195                false    false  negative           No    male   \n",
       "205505               false    false  negative         None  female   \n",
       "277543               false    false  negative         None  female   \n",
       "153169               false    false  negative           No  female   \n",
       "88224                false    false  negative           No    male   \n",
       "213208               false    false  negative         None  female   \n",
       "158470               false    false  negative         None    male   \n",
       "105645               false    false  negative           No    male   \n",
       "32769                false    false  negative           No  female   \n",
       "\n",
       "       Known_contact  \n",
       "266536         Other  \n",
       "60195          Other  \n",
       "205505         Other  \n",
       "277543         Other  \n",
       "153169         Other  \n",
       "88224          Other  \n",
       "213208         Other  \n",
       "158470         Other  \n",
       "105645         Other  \n",
       "32769          Other  "
      ]
     },
     "execution_count": 10,
     "metadata": {},
     "output_type": "execute_result"
    }
   ],
   "source": [
    "covid.sample(10)  #checking the value after conversion"
   ]
  },
  {
   "cell_type": "markdown",
   "id": "c82677ef",
   "metadata": {},
   "source": [
    "IN the Dataset 'None' and 'Other' should replace with 'Nan'"
   ]
  },
  {
   "cell_type": "code",
   "execution_count": 11,
   "id": "a2238c80",
   "metadata": {},
   "outputs": [],
   "source": [
    "covid.replace({'None':np.nan},inplace= True)"
   ]
  },
  {
   "cell_type": "code",
   "execution_count": 12,
   "id": "6d2d15b7",
   "metadata": {},
   "outputs": [
    {
     "data": {
      "text/plain": [
       "Ind_ID                      0\n",
       "Test_date                   0\n",
       "Cough_symptoms            252\n",
       "Fever                     252\n",
       "Sore_throat                 1\n",
       "Shortness_of_breath         1\n",
       "Headache                    1\n",
       "Corona                      0\n",
       "Age_60_above           127320\n",
       "Sex                     19563\n",
       "Known_contact               0\n",
       "dtype: int64"
      ]
     },
     "execution_count": 12,
     "metadata": {},
     "output_type": "execute_result"
    }
   ],
   "source": [
    "# Finding the total null values\n",
    "\n",
    "covid.isnull().sum()"
   ]
  },
  {
   "cell_type": "code",
   "execution_count": 13,
   "id": "24a25d15",
   "metadata": {},
   "outputs": [
    {
     "name": "stdout",
     "output_type": "stream",
     "text": [
      "Ind_ID has  0.0 %\n",
      "Test_date has  0.0 %\n",
      "Cough_symptoms has  0.09037 %\n",
      "Fever has  0.09037 %\n",
      "Sore_throat has  0.00036 %\n",
      "Shortness_of_breath has  0.00036 %\n",
      "Headache has  0.00036 %\n",
      "Corona has  0.0 %\n",
      "Age_60_above has  45.65928 %\n",
      "Sex has  7.01565 %\n",
      "Known_contact has  0.0 %\n"
     ]
    }
   ],
   "source": [
    "# Finding the % of null values in each column\n",
    "\n",
    "for i in covid.columns:\n",
    "    print(f\"{i} has \",round(covid[i].isnull().sum()*100/covid.shape[0],5),\"%\")"
   ]
  },
  {
   "cell_type": "code",
   "execution_count": 14,
   "id": "cc803c26",
   "metadata": {},
   "outputs": [
    {
     "data": {
      "text/plain": [
       "Index(['Ind_ID', 'Test_date', 'Cough_symptoms', 'Fever', 'Sore_throat',\n",
       "       'Shortness_of_breath', 'Headache', 'Corona', 'Age_60_above', 'Sex',\n",
       "       'Known_contact'],\n",
       "      dtype='object')"
      ]
     },
     "execution_count": 14,
     "metadata": {},
     "output_type": "execute_result"
    }
   ],
   "source": [
    "covid.columns"
   ]
  },
  {
   "cell_type": "code",
   "execution_count": 15,
   "id": "7cb98287",
   "metadata": {},
   "outputs": [],
   "source": [
    "#Droping nan rows having columns less than 1% nan\n",
    "\n",
    "covid.dropna(subset=['Cough_symptoms','Fever','Shortness_of_breath','Sore_throat','Headache'],axis=0,inplace=True)"
   ]
  },
  {
   "cell_type": "code",
   "execution_count": 16,
   "id": "eb710b96",
   "metadata": {},
   "outputs": [
    {
     "data": {
      "text/html": [
       "<div>\n",
       "<style scoped>\n",
       "    .dataframe tbody tr th:only-of-type {\n",
       "        vertical-align: middle;\n",
       "    }\n",
       "\n",
       "    .dataframe tbody tr th {\n",
       "        vertical-align: top;\n",
       "    }\n",
       "\n",
       "    .dataframe thead th {\n",
       "        text-align: right;\n",
       "    }\n",
       "</style>\n",
       "<table border=\"1\" class=\"dataframe\">\n",
       "  <thead>\n",
       "    <tr style=\"text-align: right;\">\n",
       "      <th></th>\n",
       "      <th>Ind_ID</th>\n",
       "      <th>Test_date</th>\n",
       "      <th>Cough_symptoms</th>\n",
       "      <th>Fever</th>\n",
       "      <th>Sore_throat</th>\n",
       "      <th>Shortness_of_breath</th>\n",
       "      <th>Headache</th>\n",
       "      <th>Corona</th>\n",
       "      <th>Age_60_above</th>\n",
       "      <th>Sex</th>\n",
       "      <th>Known_contact</th>\n",
       "    </tr>\n",
       "  </thead>\n",
       "  <tbody>\n",
       "    <tr>\n",
       "      <th>0</th>\n",
       "      <td>1</td>\n",
       "      <td>11-03-2020</td>\n",
       "      <td>true</td>\n",
       "      <td>false</td>\n",
       "      <td>true</td>\n",
       "      <td>false</td>\n",
       "      <td>false</td>\n",
       "      <td>negative</td>\n",
       "      <td>NaN</td>\n",
       "      <td>NaN</td>\n",
       "      <td>Abroad</td>\n",
       "    </tr>\n",
       "    <tr>\n",
       "      <th>1</th>\n",
       "      <td>2</td>\n",
       "      <td>11-03-2020</td>\n",
       "      <td>false</td>\n",
       "      <td>true</td>\n",
       "      <td>false</td>\n",
       "      <td>false</td>\n",
       "      <td>false</td>\n",
       "      <td>positive</td>\n",
       "      <td>NaN</td>\n",
       "      <td>NaN</td>\n",
       "      <td>Abroad</td>\n",
       "    </tr>\n",
       "    <tr>\n",
       "      <th>2</th>\n",
       "      <td>3</td>\n",
       "      <td>11-03-2020</td>\n",
       "      <td>false</td>\n",
       "      <td>true</td>\n",
       "      <td>false</td>\n",
       "      <td>false</td>\n",
       "      <td>false</td>\n",
       "      <td>positive</td>\n",
       "      <td>NaN</td>\n",
       "      <td>NaN</td>\n",
       "      <td>Abroad</td>\n",
       "    </tr>\n",
       "    <tr>\n",
       "      <th>3</th>\n",
       "      <td>4</td>\n",
       "      <td>11-03-2020</td>\n",
       "      <td>true</td>\n",
       "      <td>false</td>\n",
       "      <td>false</td>\n",
       "      <td>false</td>\n",
       "      <td>false</td>\n",
       "      <td>negative</td>\n",
       "      <td>NaN</td>\n",
       "      <td>NaN</td>\n",
       "      <td>Abroad</td>\n",
       "    </tr>\n",
       "    <tr>\n",
       "      <th>4</th>\n",
       "      <td>5</td>\n",
       "      <td>11-03-2020</td>\n",
       "      <td>true</td>\n",
       "      <td>false</td>\n",
       "      <td>false</td>\n",
       "      <td>false</td>\n",
       "      <td>false</td>\n",
       "      <td>negative</td>\n",
       "      <td>NaN</td>\n",
       "      <td>NaN</td>\n",
       "      <td>Contact with confirmed</td>\n",
       "    </tr>\n",
       "  </tbody>\n",
       "</table>\n",
       "</div>"
      ],
      "text/plain": [
       "   Ind_ID   Test_date Cough_symptoms  Fever Sore_throat Shortness_of_breath  \\\n",
       "0       1  11-03-2020           true  false        true               false   \n",
       "1       2  11-03-2020          false   true       false               false   \n",
       "2       3  11-03-2020          false   true       false               false   \n",
       "3       4  11-03-2020           true  false       false               false   \n",
       "4       5  11-03-2020           true  false       false               false   \n",
       "\n",
       "  Headache    Corona Age_60_above  Sex           Known_contact  \n",
       "0    false  negative          NaN  NaN                  Abroad  \n",
       "1    false  positive          NaN  NaN                  Abroad  \n",
       "2    false  positive          NaN  NaN                  Abroad  \n",
       "3    false  negative          NaN  NaN                  Abroad  \n",
       "4    false  negative          NaN  NaN  Contact with confirmed  "
      ]
     },
     "execution_count": 16,
     "metadata": {},
     "output_type": "execute_result"
    }
   ],
   "source": [
    "covid.head()"
   ]
  },
  {
   "cell_type": "code",
   "execution_count": 17,
   "id": "3ffdd34d",
   "metadata": {},
   "outputs": [
    {
     "data": {
      "text/plain": [
       "Ind_ID                      0\n",
       "Test_date                   0\n",
       "Cough_symptoms              0\n",
       "Fever                       0\n",
       "Sore_throat                 0\n",
       "Shortness_of_breath         0\n",
       "Headache                    0\n",
       "Corona                      0\n",
       "Age_60_above           127315\n",
       "Sex                     19552\n",
       "Known_contact               0\n",
       "dtype: int64"
      ]
     },
     "execution_count": 17,
     "metadata": {},
     "output_type": "execute_result"
    }
   ],
   "source": [
    "#Again checking null value\n",
    "covid.isnull().sum()"
   ]
  },
  {
   "cell_type": "code",
   "execution_count": 18,
   "id": "c2d79294",
   "metadata": {},
   "outputs": [],
   "source": [
    "#Copy cleaned dataset for other uses\n",
    "new_covid = covid.copy()\n",
    "new_covid.to_csv('new_covid.csv',index=False)"
   ]
  },
  {
   "cell_type": "code",
   "execution_count": 19,
   "id": "3f4c0bd7",
   "metadata": {},
   "outputs": [
    {
     "data": {
      "text/html": [
       "<div>\n",
       "<style scoped>\n",
       "    .dataframe tbody tr th:only-of-type {\n",
       "        vertical-align: middle;\n",
       "    }\n",
       "\n",
       "    .dataframe tbody tr th {\n",
       "        vertical-align: top;\n",
       "    }\n",
       "\n",
       "    .dataframe thead th {\n",
       "        text-align: right;\n",
       "    }\n",
       "</style>\n",
       "<table border=\"1\" class=\"dataframe\">\n",
       "  <thead>\n",
       "    <tr style=\"text-align: right;\">\n",
       "      <th></th>\n",
       "      <th>Ind_ID</th>\n",
       "      <th>Test_date</th>\n",
       "      <th>Cough_symptoms</th>\n",
       "      <th>Fever</th>\n",
       "      <th>Sore_throat</th>\n",
       "      <th>Shortness_of_breath</th>\n",
       "      <th>Headache</th>\n",
       "      <th>Corona</th>\n",
       "      <th>Age_60_above</th>\n",
       "      <th>Sex</th>\n",
       "      <th>Known_contact</th>\n",
       "    </tr>\n",
       "  </thead>\n",
       "  <tbody>\n",
       "    <tr>\n",
       "      <th>0</th>\n",
       "      <td>1</td>\n",
       "      <td>11-03-2020</td>\n",
       "      <td>true</td>\n",
       "      <td>false</td>\n",
       "      <td>true</td>\n",
       "      <td>false</td>\n",
       "      <td>false</td>\n",
       "      <td>negative</td>\n",
       "      <td>NaN</td>\n",
       "      <td>NaN</td>\n",
       "      <td>Abroad</td>\n",
       "    </tr>\n",
       "    <tr>\n",
       "      <th>1</th>\n",
       "      <td>2</td>\n",
       "      <td>11-03-2020</td>\n",
       "      <td>false</td>\n",
       "      <td>true</td>\n",
       "      <td>false</td>\n",
       "      <td>false</td>\n",
       "      <td>false</td>\n",
       "      <td>positive</td>\n",
       "      <td>NaN</td>\n",
       "      <td>NaN</td>\n",
       "      <td>Abroad</td>\n",
       "    </tr>\n",
       "    <tr>\n",
       "      <th>2</th>\n",
       "      <td>3</td>\n",
       "      <td>11-03-2020</td>\n",
       "      <td>false</td>\n",
       "      <td>true</td>\n",
       "      <td>false</td>\n",
       "      <td>false</td>\n",
       "      <td>false</td>\n",
       "      <td>positive</td>\n",
       "      <td>NaN</td>\n",
       "      <td>NaN</td>\n",
       "      <td>Abroad</td>\n",
       "    </tr>\n",
       "    <tr>\n",
       "      <th>3</th>\n",
       "      <td>4</td>\n",
       "      <td>11-03-2020</td>\n",
       "      <td>true</td>\n",
       "      <td>false</td>\n",
       "      <td>false</td>\n",
       "      <td>false</td>\n",
       "      <td>false</td>\n",
       "      <td>negative</td>\n",
       "      <td>NaN</td>\n",
       "      <td>NaN</td>\n",
       "      <td>Abroad</td>\n",
       "    </tr>\n",
       "    <tr>\n",
       "      <th>4</th>\n",
       "      <td>5</td>\n",
       "      <td>11-03-2020</td>\n",
       "      <td>true</td>\n",
       "      <td>false</td>\n",
       "      <td>false</td>\n",
       "      <td>false</td>\n",
       "      <td>false</td>\n",
       "      <td>negative</td>\n",
       "      <td>NaN</td>\n",
       "      <td>NaN</td>\n",
       "      <td>Contact with confirmed</td>\n",
       "    </tr>\n",
       "    <tr>\n",
       "      <th>...</th>\n",
       "      <td>...</td>\n",
       "      <td>...</td>\n",
       "      <td>...</td>\n",
       "      <td>...</td>\n",
       "      <td>...</td>\n",
       "      <td>...</td>\n",
       "      <td>...</td>\n",
       "      <td>...</td>\n",
       "      <td>...</td>\n",
       "      <td>...</td>\n",
       "      <td>...</td>\n",
       "    </tr>\n",
       "    <tr>\n",
       "      <th>278843</th>\n",
       "      <td>278844</td>\n",
       "      <td>30-04-2020</td>\n",
       "      <td>false</td>\n",
       "      <td>false</td>\n",
       "      <td>false</td>\n",
       "      <td>false</td>\n",
       "      <td>false</td>\n",
       "      <td>positive</td>\n",
       "      <td>NaN</td>\n",
       "      <td>male</td>\n",
       "      <td>Other</td>\n",
       "    </tr>\n",
       "    <tr>\n",
       "      <th>278844</th>\n",
       "      <td>278845</td>\n",
       "      <td>30-04-2020</td>\n",
       "      <td>false</td>\n",
       "      <td>false</td>\n",
       "      <td>false</td>\n",
       "      <td>false</td>\n",
       "      <td>false</td>\n",
       "      <td>negative</td>\n",
       "      <td>NaN</td>\n",
       "      <td>female</td>\n",
       "      <td>Other</td>\n",
       "    </tr>\n",
       "    <tr>\n",
       "      <th>278845</th>\n",
       "      <td>278846</td>\n",
       "      <td>30-04-2020</td>\n",
       "      <td>false</td>\n",
       "      <td>false</td>\n",
       "      <td>false</td>\n",
       "      <td>false</td>\n",
       "      <td>false</td>\n",
       "      <td>negative</td>\n",
       "      <td>NaN</td>\n",
       "      <td>male</td>\n",
       "      <td>Other</td>\n",
       "    </tr>\n",
       "    <tr>\n",
       "      <th>278846</th>\n",
       "      <td>278847</td>\n",
       "      <td>30-04-2020</td>\n",
       "      <td>false</td>\n",
       "      <td>false</td>\n",
       "      <td>false</td>\n",
       "      <td>false</td>\n",
       "      <td>false</td>\n",
       "      <td>negative</td>\n",
       "      <td>NaN</td>\n",
       "      <td>male</td>\n",
       "      <td>Other</td>\n",
       "    </tr>\n",
       "    <tr>\n",
       "      <th>278847</th>\n",
       "      <td>278848</td>\n",
       "      <td>30-04-2020</td>\n",
       "      <td>false</td>\n",
       "      <td>false</td>\n",
       "      <td>false</td>\n",
       "      <td>false</td>\n",
       "      <td>false</td>\n",
       "      <td>negative</td>\n",
       "      <td>NaN</td>\n",
       "      <td>female</td>\n",
       "      <td>Other</td>\n",
       "    </tr>\n",
       "  </tbody>\n",
       "</table>\n",
       "<p>278594 rows × 11 columns</p>\n",
       "</div>"
      ],
      "text/plain": [
       "        Ind_ID   Test_date Cough_symptoms  Fever Sore_throat  \\\n",
       "0            1  11-03-2020           true  false        true   \n",
       "1            2  11-03-2020          false   true       false   \n",
       "2            3  11-03-2020          false   true       false   \n",
       "3            4  11-03-2020           true  false       false   \n",
       "4            5  11-03-2020           true  false       false   \n",
       "...        ...         ...            ...    ...         ...   \n",
       "278843  278844  30-04-2020          false  false       false   \n",
       "278844  278845  30-04-2020          false  false       false   \n",
       "278845  278846  30-04-2020          false  false       false   \n",
       "278846  278847  30-04-2020          false  false       false   \n",
       "278847  278848  30-04-2020          false  false       false   \n",
       "\n",
       "       Shortness_of_breath Headache    Corona Age_60_above     Sex  \\\n",
       "0                    false    false  negative          NaN     NaN   \n",
       "1                    false    false  positive          NaN     NaN   \n",
       "2                    false    false  positive          NaN     NaN   \n",
       "3                    false    false  negative          NaN     NaN   \n",
       "4                    false    false  negative          NaN     NaN   \n",
       "...                    ...      ...       ...          ...     ...   \n",
       "278843               false    false  positive          NaN    male   \n",
       "278844               false    false  negative          NaN  female   \n",
       "278845               false    false  negative          NaN    male   \n",
       "278846               false    false  negative          NaN    male   \n",
       "278847               false    false  negative          NaN  female   \n",
       "\n",
       "                 Known_contact  \n",
       "0                       Abroad  \n",
       "1                       Abroad  \n",
       "2                       Abroad  \n",
       "3                       Abroad  \n",
       "4       Contact with confirmed  \n",
       "...                        ...  \n",
       "278843                   Other  \n",
       "278844                   Other  \n",
       "278845                   Other  \n",
       "278846                   Other  \n",
       "278847                   Other  \n",
       "\n",
       "[278594 rows x 11 columns]"
      ]
     },
     "execution_count": 19,
     "metadata": {},
     "output_type": "execute_result"
    }
   ],
   "source": [
    "new_covid"
   ]
  },
  {
   "cell_type": "code",
   "execution_count": 20,
   "id": "aa89c04a",
   "metadata": {},
   "outputs": [],
   "source": [
    "#Drop Age_60_avobe column which is more than 40% data null.\n",
    "\n",
    "covid.drop('Age_60_above',axis=1,inplace=True)"
   ]
  },
  {
   "cell_type": "markdown",
   "id": "1a54c430",
   "metadata": {},
   "source": [
    "# Changing Datatype \n",
    "The '*object*' data type is a general-purpose data type that can represent various types of data, while the '*category*' data type is specifically designed for columns with a limited number of unique values, providing memory and performance optimizations for categorical data."
   ]
  },
  {
   "cell_type": "code",
   "execution_count": 21,
   "id": "907f18be",
   "metadata": {},
   "outputs": [],
   "source": [
    "#converting datatype as categorical\n",
    "\n",
    "for i in covid.columns:\n",
    "    if i == 'Ind_ID' or i == 'Test_date':\n",
    "        pass\n",
    "    else:\n",
    "        covid[i] = covid[i].astype('category')"
   ]
  },
  {
   "cell_type": "code",
   "execution_count": 22,
   "id": "9b761bb5",
   "metadata": {},
   "outputs": [
    {
     "name": "stdout",
     "output_type": "stream",
     "text": [
      "<class 'pandas.core.frame.DataFrame'>\n",
      "Int64Index: 278594 entries, 0 to 278847\n",
      "Data columns (total 10 columns):\n",
      " #   Column               Non-Null Count   Dtype   \n",
      "---  ------               --------------   -----   \n",
      " 0   Ind_ID               278594 non-null  int64   \n",
      " 1   Test_date            278594 non-null  object  \n",
      " 2   Cough_symptoms       278594 non-null  category\n",
      " 3   Fever                278594 non-null  category\n",
      " 4   Sore_throat          278594 non-null  category\n",
      " 5   Shortness_of_breath  278594 non-null  category\n",
      " 6   Headache             278594 non-null  category\n",
      " 7   Corona               278594 non-null  category\n",
      " 8   Sex                  259042 non-null  category\n",
      " 9   Known_contact        278594 non-null  category\n",
      "dtypes: category(8), int64(1), object(1)\n",
      "memory usage: 8.5+ MB\n"
     ]
    }
   ],
   "source": [
    "covid.info()"
   ]
  },
  {
   "cell_type": "code",
   "execution_count": 23,
   "id": "6eb7512a",
   "metadata": {},
   "outputs": [
    {
     "data": {
      "text/plain": [
       "negative    260008\n",
       "positive     14694\n",
       "other         3892\n",
       "Name: Corona, dtype: int64"
      ]
     },
     "execution_count": 23,
     "metadata": {},
     "output_type": "execute_result"
    }
   ],
   "source": [
    "#checking what are the value and howmuch value presents in target column.\n",
    "covid['Corona'].value_counts()"
   ]
  },
  {
   "cell_type": "code",
   "execution_count": 24,
   "id": "43816b69",
   "metadata": {},
   "outputs": [],
   "source": [
    "#Replace 'other' with null value.\n",
    "\n",
    "covid['Corona'] = covid['Corona'].replace('other', np.nan)"
   ]
  },
  {
   "cell_type": "code",
   "execution_count": 25,
   "id": "f22374c4",
   "metadata": {},
   "outputs": [],
   "source": [
    "covid.dropna(subset=['Corona'],axis=0,inplace=True)"
   ]
  },
  {
   "cell_type": "code",
   "execution_count": 26,
   "id": "e6bc3530",
   "metadata": {},
   "outputs": [
    {
     "data": {
      "text/plain": [
       "negative    260008\n",
       "positive     14694\n",
       "Name: Corona, dtype: int64"
      ]
     },
     "execution_count": 26,
     "metadata": {},
     "output_type": "execute_result"
    }
   ],
   "source": [
    "covid['Corona'].value_counts()"
   ]
  },
  {
   "cell_type": "code",
   "execution_count": 27,
   "id": "4c310e72",
   "metadata": {
    "scrolled": true
   },
   "outputs": [
    {
     "data": {
      "text/plain": [
       "Ind_ID                     0\n",
       "Test_date                  0\n",
       "Cough_symptoms             0\n",
       "Fever                      0\n",
       "Sore_throat                0\n",
       "Shortness_of_breath        0\n",
       "Headache                   0\n",
       "Corona                     0\n",
       "Sex                    19034\n",
       "Known_contact              0\n",
       "dtype: int64"
      ]
     },
     "execution_count": 27,
     "metadata": {},
     "output_type": "execute_result"
    }
   ],
   "source": [
    "covid.isnull().sum()"
   ]
  },
  {
   "cell_type": "markdown",
   "id": "e8ece2b8",
   "metadata": {},
   "source": [
    "# EDA"
   ]
  },
  {
   "cell_type": "code",
   "execution_count": 28,
   "id": "ee2ec7df",
   "metadata": {
    "scrolled": false
   },
   "outputs": [
    {
     "data": {
      "image/png": "[encoded data removed]",
      "text/plain": [
       "<Figure size 1500x1500 with 5 Axes>"
      ]
     },
     "metadata": {},
     "output_type": "display_data"
    }
   ],
   "source": [
    "#univatiate analysis\n",
    "\n",
    "# list of categorical variables to plot\n",
    "cat_vars = ['Cough_symptoms', 'Fever', 'Sore_throat', 'Shortness_of_breath', 'Headache']\n",
    "\n",
    "# create figure with subplots\n",
    "fig, axs = plt.subplots(nrows=2, ncols=3, figsize=(15, 15))\n",
    "axs = axs.flatten()\n",
    "\n",
    "# create barplot for each categorical variable\n",
    "for i, var in enumerate(cat_vars):\n",
    "    sns.countplot(x=var, hue='Corona', data=covid, ax=axs[i])\n",
    "    axs[i].set_xticklabels(axs[i].get_xticklabels(), rotation=90)\n",
    "\n",
    "# adjust spacing between subplots\n",
    "fig.tight_layout()\n",
    "\n",
    "# remove the sixth subplot\n",
    "fig.delaxes(axs[5])\n",
    "\n",
    "#show plot\n",
    "plt.show()"
   ]
  },
  {
   "cell_type": "code",
   "execution_count": 29,
   "id": "ee2701b7",
   "metadata": {},
   "outputs": [
    {
     "data": {
      "image/png": "[encoded data removed]",
      "text/plain": [
       "<Figure size 1500x1500 with 5 Axes>"
      ]
     },
     "metadata": {},
     "output_type": "display_data"
    }
   ],
   "source": [
    "cat_vars = ['Cough_symptoms', 'Fever', 'Sore_throat', 'Shortness_of_breath', 'Headache']\n",
    "\n",
    "# create a figure and axes\n",
    "fig, axs = plt.subplots(nrows=2, ncols=3, figsize=(15, 15))\n",
    "\n",
    "# create a pie chart for each categorical variable\n",
    "for i, var in enumerate(cat_vars):\n",
    "    if i < len(axs.flat):\n",
    "        # count the number of occurrences for each category\n",
    "        cat_counts = covid[var].value_counts()\n",
    "\n",
    "        # create a pie chart\n",
    "        axs.flat[i].pie(cat_counts, labels=cat_counts.index, autopct='%1.1f%%', startangle=90)\n",
    "\n",
    "        # set a title for each subplot\n",
    "        axs.flat[i].set_title(f'{var} Distribution')\n",
    "\n",
    "# adjust spacing between subplots\n",
    "fig.tight_layout()\n",
    "fig.delaxes(axs[1][2])\n",
    "# show the plot\n",
    "plt.show()"
   ]
  },
  {
   "cell_type": "code",
   "execution_count": 30,
   "id": "4c68ecc0",
   "metadata": {},
   "outputs": [],
   "source": [
    "#copy the dataset for Encoding and Model implementation\n",
    "\n",
    "covid_data = covid.copy(deep = True)"
   ]
  },
  {
   "cell_type": "markdown",
   "id": "c5e20c3e",
   "metadata": {},
   "source": [
    "# Encoding"
   ]
  },
  {
   "cell_type": "markdown",
   "id": "e8e10dbb",
   "metadata": {},
   "source": [
    "The `get_dummies()` method in pandas is used to convert categorical variables into dummy or indicator variables.\n",
    "It creates a new DataFrame with binary columns representing the different categories in the original variable. \n",
    "Each category becomes a new column, and the values in those columns are 1 or 0, indicating the presence or absence of the category in each observation."
   ]
  },
  {
   "cell_type": "code",
   "execution_count": 31,
   "id": "9aa3e39d",
   "metadata": {},
   "outputs": [],
   "source": [
    "covid_data['Cough_symptoms'] = pd.get_dummies(covid_data['Cough_symptoms'],drop_first=True)\n",
    "covid_data['Fever']= pd.get_dummies(covid_data['Fever'],drop_first=True)\n",
    "covid_data['Shortness_of_breath']= pd.get_dummies(covid_data['Shortness_of_breath'],drop_first=True)\n",
    "covid_data['Sore_throat']=pd.get_dummies(covid_data['Sore_throat'],drop_first=True)\n",
    "covid_data['Headache']= pd.get_dummies(covid_data['Headache'],drop_first=True)\n",
    "covid_data['Corona']= pd.get_dummies(covid_data['Corona'],drop_first=True)"
   ]
  },
  {
   "cell_type": "code",
   "execution_count": 32,
   "id": "ad972930",
   "metadata": {},
   "outputs": [],
   "source": [
    "covid_data['Sex'].replace({'male':0,'female':1},inplace=True)\n",
    "covid_data['Known_contact'].replace({'Other':2,'Contact with confirmed':1,'Abroad':0},inplace=True)"
   ]
  },
  {
   "cell_type": "code",
   "execution_count": 33,
   "id": "342acef2",
   "metadata": {},
   "outputs": [
    {
     "data": {
      "text/html": [
       "<div>\n",
       "<style scoped>\n",
       "    .dataframe tbody tr th:only-of-type {\n",
       "        vertical-align: middle;\n",
       "    }\n",
       "\n",
       "    .dataframe tbody tr th {\n",
       "        vertical-align: top;\n",
       "    }\n",
       "\n",
       "    .dataframe thead th {\n",
       "        text-align: right;\n",
       "    }\n",
       "</style>\n",
       "<table border=\"1\" class=\"dataframe\">\n",
       "  <thead>\n",
       "    <tr style=\"text-align: right;\">\n",
       "      <th></th>\n",
       "      <th>Ind_ID</th>\n",
       "      <th>Test_date</th>\n",
       "      <th>Cough_symptoms</th>\n",
       "      <th>Fever</th>\n",
       "      <th>Sore_throat</th>\n",
       "      <th>Shortness_of_breath</th>\n",
       "      <th>Headache</th>\n",
       "      <th>Corona</th>\n",
       "      <th>Sex</th>\n",
       "      <th>Known_contact</th>\n",
       "    </tr>\n",
       "  </thead>\n",
       "  <tbody>\n",
       "    <tr>\n",
       "      <th>0</th>\n",
       "      <td>1</td>\n",
       "      <td>11-03-2020</td>\n",
       "      <td>1</td>\n",
       "      <td>0</td>\n",
       "      <td>1</td>\n",
       "      <td>0</td>\n",
       "      <td>0</td>\n",
       "      <td>0</td>\n",
       "      <td>NaN</td>\n",
       "      <td>0</td>\n",
       "    </tr>\n",
       "    <tr>\n",
       "      <th>1</th>\n",
       "      <td>2</td>\n",
       "      <td>11-03-2020</td>\n",
       "      <td>0</td>\n",
       "      <td>1</td>\n",
       "      <td>0</td>\n",
       "      <td>0</td>\n",
       "      <td>0</td>\n",
       "      <td>1</td>\n",
       "      <td>NaN</td>\n",
       "      <td>0</td>\n",
       "    </tr>\n",
       "    <tr>\n",
       "      <th>2</th>\n",
       "      <td>3</td>\n",
       "      <td>11-03-2020</td>\n",
       "      <td>0</td>\n",
       "      <td>1</td>\n",
       "      <td>0</td>\n",
       "      <td>0</td>\n",
       "      <td>0</td>\n",
       "      <td>1</td>\n",
       "      <td>NaN</td>\n",
       "      <td>0</td>\n",
       "    </tr>\n",
       "    <tr>\n",
       "      <th>3</th>\n",
       "      <td>4</td>\n",
       "      <td>11-03-2020</td>\n",
       "      <td>1</td>\n",
       "      <td>0</td>\n",
       "      <td>0</td>\n",
       "      <td>0</td>\n",
       "      <td>0</td>\n",
       "      <td>0</td>\n",
       "      <td>NaN</td>\n",
       "      <td>0</td>\n",
       "    </tr>\n",
       "    <tr>\n",
       "      <th>4</th>\n",
       "      <td>5</td>\n",
       "      <td>11-03-2020</td>\n",
       "      <td>1</td>\n",
       "      <td>0</td>\n",
       "      <td>0</td>\n",
       "      <td>0</td>\n",
       "      <td>0</td>\n",
       "      <td>0</td>\n",
       "      <td>NaN</td>\n",
       "      <td>1</td>\n",
       "    </tr>\n",
       "  </tbody>\n",
       "</table>\n",
       "</div>"
      ],
      "text/plain": [
       "   Ind_ID   Test_date  Cough_symptoms  Fever  Sore_throat  \\\n",
       "0       1  11-03-2020               1      0            1   \n",
       "1       2  11-03-2020               0      1            0   \n",
       "2       3  11-03-2020               0      1            0   \n",
       "3       4  11-03-2020               1      0            0   \n",
       "4       5  11-03-2020               1      0            0   \n",
       "\n",
       "   Shortness_of_breath  Headache  Corona  Sex Known_contact  \n",
       "0                    0         0       0  NaN             0  \n",
       "1                    0         0       1  NaN             0  \n",
       "2                    0         0       1  NaN             0  \n",
       "3                    0         0       0  NaN             0  \n",
       "4                    0         0       0  NaN             1  "
      ]
     },
     "execution_count": 33,
     "metadata": {},
     "output_type": "execute_result"
    }
   ],
   "source": [
    "#Display dataset after encoding categorical value to numerical value\n",
    "covid_data.head()"
   ]
  },
  {
   "cell_type": "code",
   "execution_count": 34,
   "id": "89e07194",
   "metadata": {},
   "outputs": [
    {
     "data": {
      "text/plain": [
       "Ind_ID                     0\n",
       "Test_date                  0\n",
       "Cough_symptoms             0\n",
       "Fever                      0\n",
       "Sore_throat                0\n",
       "Shortness_of_breath        0\n",
       "Headache                   0\n",
       "Corona                     0\n",
       "Sex                    19034\n",
       "Known_contact              0\n",
       "dtype: int64"
      ]
     },
     "execution_count": 34,
     "metadata": {},
     "output_type": "execute_result"
    }
   ],
   "source": [
    "#Checking null value\n",
    "covid_data.isnull().sum()"
   ]
  },
  {
   "cell_type": "markdown",
   "id": "7c18eacb",
   "metadata": {},
   "source": [
    "# Imputation"
   ]
  },
  {
   "cell_type": "markdown",
   "id": "44a75b65",
   "metadata": {},
   "source": [
    "As Gender column has some missing data,So we have to fiil the data by using some imputation method.\n",
    "First we have to check the data how it is distrubuted accordingly we will use suitable imputation method."
   ]
  },
  {
   "cell_type": "code",
   "execution_count": 35,
   "id": "05964b9c",
   "metadata": {
    "scrolled": true
   },
   "outputs": [
    {
     "data": {
      "text/plain": [
       "<AxesSubplot:xlabel='Sex', ylabel='Count'>"
      ]
     },
     "execution_count": 35,
     "metadata": {},
     "output_type": "execute_result"
    },
    {
     "data": {
      "image/png": "[encoded data removed]",
      "text/plain": [
       "<Figure size 400x300 with 1 Axes>"
      ]
     },
     "metadata": {},
     "output_type": "display_data"
    }
   ],
   "source": [
    "#Distribution of sex column\n",
    "\n",
    "sns.set(rc={'figure.figsize': (4, 3)})  # the set() function from the seaborn library to modify the runtime configuration (rc) parameters.\n",
    "\n",
    "sns.histplot(covid_data['Sex'])\n"
   ]
  },
  {
   "cell_type": "markdown",
   "id": "52c8744f",
   "metadata": {},
   "source": [
    "From the above fig. we conclude that data is uniformly distributed so better to use KNN imputation."
   ]
  },
  {
   "cell_type": "code",
   "execution_count": 36,
   "id": "2fedaf25",
   "metadata": {},
   "outputs": [],
   "source": [
    "# Applying KNN imputation\n",
    "\n",
    "#import the library\n",
    "from sklearn.impute import KNNImputer\n",
    "\n",
    "#create an instance of the KNNImputer\n",
    "knn=KNNImputer(n_neighbors=5,weights='uniform')\n",
    "\n",
    "imputed = knn.fit_transform(covid_data[['Sex']])\n"
   ]
  },
  {
   "cell_type": "code",
   "execution_count": 37,
   "id": "76c539c7",
   "metadata": {},
   "outputs": [],
   "source": [
    "#Assign the imputed values back to the DataFrame\n",
    "\n",
    "covid_data['Sex'] = imputed"
   ]
  },
  {
   "cell_type": "code",
   "execution_count": 38,
   "id": "a570cb48",
   "metadata": {},
   "outputs": [
    {
     "data": {
      "text/html": [
       "<div>\n",
       "<style scoped>\n",
       "    .dataframe tbody tr th:only-of-type {\n",
       "        vertical-align: middle;\n",
       "    }\n",
       "\n",
       "    .dataframe tbody tr th {\n",
       "        vertical-align: top;\n",
       "    }\n",
       "\n",
       "    .dataframe thead th {\n",
       "        text-align: right;\n",
       "    }\n",
       "</style>\n",
       "<table border=\"1\" class=\"dataframe\">\n",
       "  <thead>\n",
       "    <tr style=\"text-align: right;\">\n",
       "      <th></th>\n",
       "      <th>Ind_ID</th>\n",
       "      <th>Test_date</th>\n",
       "      <th>Cough_symptoms</th>\n",
       "      <th>Fever</th>\n",
       "      <th>Sore_throat</th>\n",
       "      <th>Shortness_of_breath</th>\n",
       "      <th>Headache</th>\n",
       "      <th>Corona</th>\n",
       "      <th>Sex</th>\n",
       "      <th>Known_contact</th>\n",
       "    </tr>\n",
       "  </thead>\n",
       "  <tbody>\n",
       "    <tr>\n",
       "      <th>0</th>\n",
       "      <td>1</td>\n",
       "      <td>11-03-2020</td>\n",
       "      <td>1</td>\n",
       "      <td>0</td>\n",
       "      <td>1</td>\n",
       "      <td>0</td>\n",
       "      <td>0</td>\n",
       "      <td>0</td>\n",
       "      <td>0.502265</td>\n",
       "      <td>0</td>\n",
       "    </tr>\n",
       "    <tr>\n",
       "      <th>1</th>\n",
       "      <td>2</td>\n",
       "      <td>11-03-2020</td>\n",
       "      <td>0</td>\n",
       "      <td>1</td>\n",
       "      <td>0</td>\n",
       "      <td>0</td>\n",
       "      <td>0</td>\n",
       "      <td>1</td>\n",
       "      <td>0.502265</td>\n",
       "      <td>0</td>\n",
       "    </tr>\n",
       "    <tr>\n",
       "      <th>2</th>\n",
       "      <td>3</td>\n",
       "      <td>11-03-2020</td>\n",
       "      <td>0</td>\n",
       "      <td>1</td>\n",
       "      <td>0</td>\n",
       "      <td>0</td>\n",
       "      <td>0</td>\n",
       "      <td>1</td>\n",
       "      <td>0.502265</td>\n",
       "      <td>0</td>\n",
       "    </tr>\n",
       "    <tr>\n",
       "      <th>3</th>\n",
       "      <td>4</td>\n",
       "      <td>11-03-2020</td>\n",
       "      <td>1</td>\n",
       "      <td>0</td>\n",
       "      <td>0</td>\n",
       "      <td>0</td>\n",
       "      <td>0</td>\n",
       "      <td>0</td>\n",
       "      <td>0.502265</td>\n",
       "      <td>0</td>\n",
       "    </tr>\n",
       "    <tr>\n",
       "      <th>4</th>\n",
       "      <td>5</td>\n",
       "      <td>11-03-2020</td>\n",
       "      <td>1</td>\n",
       "      <td>0</td>\n",
       "      <td>0</td>\n",
       "      <td>0</td>\n",
       "      <td>0</td>\n",
       "      <td>0</td>\n",
       "      <td>0.502265</td>\n",
       "      <td>1</td>\n",
       "    </tr>\n",
       "  </tbody>\n",
       "</table>\n",
       "</div>"
      ],
      "text/plain": [
       "   Ind_ID   Test_date  Cough_symptoms  Fever  Sore_throat  \\\n",
       "0       1  11-03-2020               1      0            1   \n",
       "1       2  11-03-2020               0      1            0   \n",
       "2       3  11-03-2020               0      1            0   \n",
       "3       4  11-03-2020               1      0            0   \n",
       "4       5  11-03-2020               1      0            0   \n",
       "\n",
       "   Shortness_of_breath  Headache  Corona       Sex Known_contact  \n",
       "0                    0         0       0  0.502265             0  \n",
       "1                    0         0       1  0.502265             0  \n",
       "2                    0         0       1  0.502265             0  \n",
       "3                    0         0       0  0.502265             0  \n",
       "4                    0         0       0  0.502265             1  "
      ]
     },
     "execution_count": 38,
     "metadata": {},
     "output_type": "execute_result"
    }
   ],
   "source": [
    "covid_data.head()"
   ]
  },
  {
   "cell_type": "code",
   "execution_count": 39,
   "id": "2fcba4a5",
   "metadata": {},
   "outputs": [],
   "source": [
    "def change(x):\n",
    "    if x>0.5:\n",
    "        return 1\n",
    "    elif x<0.5:\n",
    "        return 0\n",
    "    else:\n",
    "        return x"
   ]
  },
  {
   "cell_type": "code",
   "execution_count": 40,
   "id": "9011d582",
   "metadata": {},
   "outputs": [],
   "source": [
    "covid_data['Sex'] = covid_data['Sex'].apply(change)"
   ]
  },
  {
   "cell_type": "code",
   "execution_count": 41,
   "id": "31b33f3d",
   "metadata": {},
   "outputs": [
    {
     "data": {
      "text/html": [
       "<div>\n",
       "<style scoped>\n",
       "    .dataframe tbody tr th:only-of-type {\n",
       "        vertical-align: middle;\n",
       "    }\n",
       "\n",
       "    .dataframe tbody tr th {\n",
       "        vertical-align: top;\n",
       "    }\n",
       "\n",
       "    .dataframe thead th {\n",
       "        text-align: right;\n",
       "    }\n",
       "</style>\n",
       "<table border=\"1\" class=\"dataframe\">\n",
       "  <thead>\n",
       "    <tr style=\"text-align: right;\">\n",
       "      <th></th>\n",
       "      <th>Ind_ID</th>\n",
       "      <th>Test_date</th>\n",
       "      <th>Cough_symptoms</th>\n",
       "      <th>Fever</th>\n",
       "      <th>Sore_throat</th>\n",
       "      <th>Shortness_of_breath</th>\n",
       "      <th>Headache</th>\n",
       "      <th>Corona</th>\n",
       "      <th>Sex</th>\n",
       "      <th>Known_contact</th>\n",
       "    </tr>\n",
       "  </thead>\n",
       "  <tbody>\n",
       "    <tr>\n",
       "      <th>265254</th>\n",
       "      <td>265255</td>\n",
       "      <td>28-04-2020</td>\n",
       "      <td>0</td>\n",
       "      <td>0</td>\n",
       "      <td>0</td>\n",
       "      <td>0</td>\n",
       "      <td>0</td>\n",
       "      <td>0</td>\n",
       "      <td>1</td>\n",
       "      <td>2</td>\n",
       "    </tr>\n",
       "    <tr>\n",
       "      <th>164513</th>\n",
       "      <td>164514</td>\n",
       "      <td>16-04-2020</td>\n",
       "      <td>0</td>\n",
       "      <td>0</td>\n",
       "      <td>0</td>\n",
       "      <td>0</td>\n",
       "      <td>0</td>\n",
       "      <td>0</td>\n",
       "      <td>0</td>\n",
       "      <td>2</td>\n",
       "    </tr>\n",
       "    <tr>\n",
       "      <th>219401</th>\n",
       "      <td>219402</td>\n",
       "      <td>22-04-2020</td>\n",
       "      <td>0</td>\n",
       "      <td>0</td>\n",
       "      <td>0</td>\n",
       "      <td>0</td>\n",
       "      <td>0</td>\n",
       "      <td>0</td>\n",
       "      <td>0</td>\n",
       "      <td>2</td>\n",
       "    </tr>\n",
       "    <tr>\n",
       "      <th>20145</th>\n",
       "      <td>20146</td>\n",
       "      <td>23-03-2020</td>\n",
       "      <td>0</td>\n",
       "      <td>0</td>\n",
       "      <td>0</td>\n",
       "      <td>0</td>\n",
       "      <td>0</td>\n",
       "      <td>0</td>\n",
       "      <td>0</td>\n",
       "      <td>2</td>\n",
       "    </tr>\n",
       "    <tr>\n",
       "      <th>265738</th>\n",
       "      <td>265739</td>\n",
       "      <td>28-04-2020</td>\n",
       "      <td>0</td>\n",
       "      <td>0</td>\n",
       "      <td>0</td>\n",
       "      <td>0</td>\n",
       "      <td>0</td>\n",
       "      <td>0</td>\n",
       "      <td>0</td>\n",
       "      <td>2</td>\n",
       "    </tr>\n",
       "  </tbody>\n",
       "</table>\n",
       "</div>"
      ],
      "text/plain": [
       "        Ind_ID   Test_date  Cough_symptoms  Fever  Sore_throat  \\\n",
       "265254  265255  28-04-2020               0      0            0   \n",
       "164513  164514  16-04-2020               0      0            0   \n",
       "219401  219402  22-04-2020               0      0            0   \n",
       "20145    20146  23-03-2020               0      0            0   \n",
       "265738  265739  28-04-2020               0      0            0   \n",
       "\n",
       "        Shortness_of_breath  Headache  Corona  Sex Known_contact  \n",
       "265254                    0         0       0    1             2  \n",
       "164513                    0         0       0    0             2  \n",
       "219401                    0         0       0    0             2  \n",
       "20145                     0         0       0    0             2  \n",
       "265738                    0         0       0    0             2  "
      ]
     },
     "execution_count": 41,
     "metadata": {},
     "output_type": "execute_result"
    }
   ],
   "source": [
    "covid_data.sample(5)"
   ]
  },
  {
   "cell_type": "code",
   "execution_count": 42,
   "id": "1cb36bae",
   "metadata": {},
   "outputs": [
    {
     "data": {
      "image/png": "[encoded data removed]",
      "text/plain": [
       "<Figure size 400x300 with 1 Axes>"
      ]
     },
     "metadata": {},
     "output_type": "display_data"
    }
   ],
   "source": [
    "sns.histplot(covid_data['Sex'])\n",
    "plt.show()"
   ]
  },
  {
   "cell_type": "code",
   "execution_count": 43,
   "id": "7f7ea215",
   "metadata": {},
   "outputs": [
    {
     "name": "stdout",
     "output_type": "stream",
     "text": [
      "<class 'pandas.core.frame.DataFrame'>\n",
      "Int64Index: 274702 entries, 0 to 278847\n",
      "Data columns (total 10 columns):\n",
      " #   Column               Non-Null Count   Dtype   \n",
      "---  ------               --------------   -----   \n",
      " 0   Ind_ID               274702 non-null  int64   \n",
      " 1   Test_date            274702 non-null  object  \n",
      " 2   Cough_symptoms       274702 non-null  uint8   \n",
      " 3   Fever                274702 non-null  uint8   \n",
      " 4   Sore_throat          274702 non-null  uint8   \n",
      " 5   Shortness_of_breath  274702 non-null  uint8   \n",
      " 6   Headache             274702 non-null  uint8   \n",
      " 7   Corona               274702 non-null  uint8   \n",
      " 8   Sex                  274702 non-null  int64   \n",
      " 9   Known_contact        274702 non-null  category\n",
      "dtypes: category(1), int64(2), object(1), uint8(6)\n",
      "memory usage: 10.2+ MB\n"
     ]
    }
   ],
   "source": [
    "covid_data.info()"
   ]
  },
  {
   "cell_type": "code",
   "execution_count": 44,
   "id": "b7553e42",
   "metadata": {},
   "outputs": [],
   "source": [
    "#Changeing All datatype into category type.\n",
    "\n",
    "final_data= covid_data.astype('category')"
   ]
  },
  {
   "cell_type": "code",
   "execution_count": 45,
   "id": "83205460",
   "metadata": {},
   "outputs": [
    {
     "name": "stdout",
     "output_type": "stream",
     "text": [
      "<class 'pandas.core.frame.DataFrame'>\n",
      "Int64Index: 274702 entries, 0 to 278847\n",
      "Data columns (total 10 columns):\n",
      " #   Column               Non-Null Count   Dtype   \n",
      "---  ------               --------------   -----   \n",
      " 0   Ind_ID               274702 non-null  category\n",
      " 1   Test_date            274702 non-null  category\n",
      " 2   Cough_symptoms       274702 non-null  category\n",
      " 3   Fever                274702 non-null  category\n",
      " 4   Sore_throat          274702 non-null  category\n",
      " 5   Shortness_of_breath  274702 non-null  category\n",
      " 6   Headache             274702 non-null  category\n",
      " 7   Corona               274702 non-null  category\n",
      " 8   Sex                  274702 non-null  category\n",
      " 9   Known_contact        274702 non-null  category\n",
      "dtypes: category(10)\n",
      "memory usage: 15.7 MB\n"
     ]
    }
   ],
   "source": [
    "final_data.info()"
   ]
  },
  {
   "cell_type": "code",
   "execution_count": 46,
   "id": "e642f296",
   "metadata": {},
   "outputs": [
    {
     "data": {
      "text/html": [
       "<div>\n",
       "<style scoped>\n",
       "    .dataframe tbody tr th:only-of-type {\n",
       "        vertical-align: middle;\n",
       "    }\n",
       "\n",
       "    .dataframe tbody tr th {\n",
       "        vertical-align: top;\n",
       "    }\n",
       "\n",
       "    .dataframe thead th {\n",
       "        text-align: right;\n",
       "    }\n",
       "</style>\n",
       "<table border=\"1\" class=\"dataframe\">\n",
       "  <thead>\n",
       "    <tr style=\"text-align: right;\">\n",
       "      <th></th>\n",
       "      <th>Ind_ID</th>\n",
       "      <th>Test_date</th>\n",
       "      <th>Cough_symptoms</th>\n",
       "      <th>Fever</th>\n",
       "      <th>Sore_throat</th>\n",
       "      <th>Shortness_of_breath</th>\n",
       "      <th>Headache</th>\n",
       "      <th>Corona</th>\n",
       "      <th>Sex</th>\n",
       "      <th>Known_contact</th>\n",
       "    </tr>\n",
       "  </thead>\n",
       "  <tbody>\n",
       "    <tr>\n",
       "      <th>0</th>\n",
       "      <td>1</td>\n",
       "      <td>11-03-2020</td>\n",
       "      <td>1</td>\n",
       "      <td>0</td>\n",
       "      <td>1</td>\n",
       "      <td>0</td>\n",
       "      <td>0</td>\n",
       "      <td>0</td>\n",
       "      <td>1</td>\n",
       "      <td>0</td>\n",
       "    </tr>\n",
       "    <tr>\n",
       "      <th>1</th>\n",
       "      <td>2</td>\n",
       "      <td>11-03-2020</td>\n",
       "      <td>0</td>\n",
       "      <td>1</td>\n",
       "      <td>0</td>\n",
       "      <td>0</td>\n",
       "      <td>0</td>\n",
       "      <td>1</td>\n",
       "      <td>1</td>\n",
       "      <td>0</td>\n",
       "    </tr>\n",
       "    <tr>\n",
       "      <th>2</th>\n",
       "      <td>3</td>\n",
       "      <td>11-03-2020</td>\n",
       "      <td>0</td>\n",
       "      <td>1</td>\n",
       "      <td>0</td>\n",
       "      <td>0</td>\n",
       "      <td>0</td>\n",
       "      <td>1</td>\n",
       "      <td>1</td>\n",
       "      <td>0</td>\n",
       "    </tr>\n",
       "    <tr>\n",
       "      <th>3</th>\n",
       "      <td>4</td>\n",
       "      <td>11-03-2020</td>\n",
       "      <td>1</td>\n",
       "      <td>0</td>\n",
       "      <td>0</td>\n",
       "      <td>0</td>\n",
       "      <td>0</td>\n",
       "      <td>0</td>\n",
       "      <td>1</td>\n",
       "      <td>0</td>\n",
       "    </tr>\n",
       "    <tr>\n",
       "      <th>4</th>\n",
       "      <td>5</td>\n",
       "      <td>11-03-2020</td>\n",
       "      <td>1</td>\n",
       "      <td>0</td>\n",
       "      <td>0</td>\n",
       "      <td>0</td>\n",
       "      <td>0</td>\n",
       "      <td>0</td>\n",
       "      <td>1</td>\n",
       "      <td>1</td>\n",
       "    </tr>\n",
       "  </tbody>\n",
       "</table>\n",
       "</div>"
      ],
      "text/plain": [
       "  Ind_ID   Test_date Cough_symptoms Fever Sore_throat Shortness_of_breath  \\\n",
       "0      1  11-03-2020              1     0           1                   0   \n",
       "1      2  11-03-2020              0     1           0                   0   \n",
       "2      3  11-03-2020              0     1           0                   0   \n",
       "3      4  11-03-2020              1     0           0                   0   \n",
       "4      5  11-03-2020              1     0           0                   0   \n",
       "\n",
       "  Headache Corona Sex Known_contact  \n",
       "0        0      0   1             0  \n",
       "1        0      1   1             0  \n",
       "2        0      1   1             0  \n",
       "3        0      0   1             0  \n",
       "4        0      0   1             1  "
      ]
     },
     "execution_count": 46,
     "metadata": {},
     "output_type": "execute_result"
    }
   ],
   "source": [
    "final_data.head()"
   ]
  },
  {
   "cell_type": "markdown",
   "id": "c8ce6159",
   "metadata": {},
   "source": [
    "# Feature Engineering"
   ]
  },
  {
   "cell_type": "code",
   "execution_count": 47,
   "id": "1f596b7a",
   "metadata": {},
   "outputs": [],
   "source": [
    "# Separating Feature and Target\n",
    "\n",
    "X = final_data.drop(['Ind_ID','Test_date','Corona'],axis=1)\n",
    "Y = final_data['Corona']"
   ]
  },
  {
   "cell_type": "code",
   "execution_count": 48,
   "id": "31e751d4",
   "metadata": {},
   "outputs": [],
   "source": [
    "# Splitting Train_Test Set\n",
    "\n",
    "X_train,X_test,Y_train,Y_test=train_test_split(X,Y,test_size=0.3,random_state=42)"
   ]
  },
  {
   "cell_type": "code",
   "execution_count": 49,
   "id": "2dbe01d5",
   "metadata": {},
   "outputs": [
    {
     "data": {
      "text/plain": [
       "0    181954\n",
       "1     10337\n",
       "Name: Corona, dtype: int64"
      ]
     },
     "execution_count": 49,
     "metadata": {},
     "output_type": "execute_result"
    }
   ],
   "source": [
    "# Size of test data\n",
    "\n",
    "Y_train.value_counts()"
   ]
  },
  {
   "cell_type": "code",
   "execution_count": 50,
   "id": "e67b4fa6",
   "metadata": {},
   "outputs": [
    {
     "data": {
      "text/plain": [
       "0    78054\n",
       "1     4357\n",
       "Name: Corona, dtype: int64"
      ]
     },
     "execution_count": 50,
     "metadata": {},
     "output_type": "execute_result"
    }
   ],
   "source": [
    "Y_test.value_counts()"
   ]
  },
  {
   "cell_type": "markdown",
   "id": "44a8425d",
   "metadata": {},
   "source": [
    "# Model Selection"
   ]
  },
  {
   "cell_type": "markdown",
   "id": "bbc7f746",
   "metadata": {},
   "source": [
    "<h3>1. RandomForest Classifier"
   ]
  },
  {
   "cell_type": "code",
   "execution_count": 51,
   "id": "b0ae5895",
   "metadata": {},
   "outputs": [
    {
     "data": {
      "text/plain": [
       "RandomForestClassifier()"
      ]
     },
     "execution_count": 51,
     "metadata": {},
     "output_type": "execute_result"
    }
   ],
   "source": [
    "#Loading RandomForestClassifier\n",
    "rf = RandomForestClassifier()\n",
    "rf.fit(X_train,Y_train)"
   ]
  },
  {
   "cell_type": "code",
   "execution_count": 52,
   "id": "91ec1bca",
   "metadata": {},
   "outputs": [],
   "source": [
    "# Prediction on dataset\n",
    "rf_pred=rf.predict(X_test)"
   ]
  },
  {
   "cell_type": "code",
   "execution_count": 53,
   "id": "106c8ee0",
   "metadata": {},
   "outputs": [
    {
     "name": "stdout",
     "output_type": "stream",
     "text": [
      "Accuracy:  96.80746502287316\n"
     ]
    }
   ],
   "source": [
    "# Accuracy Score\n",
    "rf_accuracy=accuracy_score(Y_test,rf_pred)\n",
    "print(\"Accuracy: \",rf_accuracy*100)"
   ]
  },
  {
   "cell_type": "markdown",
   "id": "e9116319",
   "metadata": {},
   "source": [
    "<h4> *Performance measure for RandomForest"
   ]
  },
  {
   "cell_type": "markdown",
   "id": "3e5585a7",
   "metadata": {},
   "source": [
    "CONFUSION MATRIX: \n",
    "A confusion matrix, also known as an error matrix, is a table that summarizes the performance of a classification model on a set of test data. It is commonly used in machine learning to evaluate the accuracy of a classification algorithm.\n"
   ]
  },
  {
   "cell_type": "code",
   "execution_count": 54,
   "id": "e6306da8",
   "metadata": {},
   "outputs": [
    {
     "name": "stdout",
     "output_type": "stream",
     "text": [
      "Confusion_Matrix:\n",
      " [[77421   633]\n",
      " [ 1998  2359]]\n",
      "Precision:  99.18902298408794\n",
      "Recall:  97.48422921467156\n",
      "F1-score:  98.32923739307692\n",
      "False Negative Score :  2.515770785328448\n"
     ]
    },
    {
     "data": {
      "image/png": "[encoded data removed]",
      "text/plain": [
       "<Figure size 400x400 with 2 Axes>"
      ]
     },
     "metadata": {},
     "output_type": "display_data"
    }
   ],
   "source": [
    "# Confusion Matrix\n",
    "rf_cm=confusion_matrix(Y_test,rf_pred)\n",
    "print(\"Confusion_Matrix:\\n\",rf_cm)\n",
    "\n",
    "#Plot Heatmap for Comfusion Mtrix\n",
    "plt.figure(figsize=(4,4))\n",
    "sns.heatmap(data=rf_cm,linewidths=.5, annot=True,  cmap = 'Blues')\n",
    "plt.ylabel('Actual label')\n",
    "plt.xlabel('Predicted label')\n",
    "all_sample_title = 'Accuracy Score for RandomForest: {0}'.format(rf.score(X_test, Y_test))\n",
    "plt.title(all_sample_title, size = 10)\n",
    "\n",
    "\n",
    "#precision\n",
    "rf_prec=rf_cm[0][0]*100/(rf_cm[0][0]+rf_cm[0][1])\n",
    "print(\"Precision: \",rf_prec)\n",
    "\n",
    "#recall\n",
    "rf_rec=rf_cm[0][0]*100/(rf_cm[0][0]+rf_cm[1][0])\n",
    "print(\"Recall: \",rf_rec)\n",
    "\n",
    "#F1-score\n",
    "rf_f1=2*rf_prec*rf_rec/(rf_prec+rf_rec)\n",
    "print(\"F1-score: \",rf_f1)\n",
    "\n",
    "#False negative score\n",
    "rf_fns=rf_cm[1][0]*100/(rf_cm[0][0]+rf_cm[1][0])\n",
    "print(\"False Negative Score : \",rf_fns)\n"
   ]
  },
  {
   "cell_type": "markdown",
   "id": "5711ebf8",
   "metadata": {},
   "source": [
    "<h3>2. Decision Tree Classifier"
   ]
  },
  {
   "cell_type": "code",
   "execution_count": 55,
   "id": "77c88eff",
   "metadata": {},
   "outputs": [
    {
     "data": {
      "text/plain": [
       "DecisionTreeClassifier()"
      ]
     },
     "execution_count": 55,
     "metadata": {},
     "output_type": "execute_result"
    }
   ],
   "source": [
    "dt = DecisionTreeClassifier()\n",
    "dt.fit(X_train,Y_train)"
   ]
  },
  {
   "cell_type": "code",
   "execution_count": 56,
   "id": "10c7280e",
   "metadata": {},
   "outputs": [
    {
     "name": "stdout",
     "output_type": "stream",
     "text": [
      "Accuracy : 96.80746502287316\n"
     ]
    }
   ],
   "source": [
    "#prediction on dataset\n",
    "dt_pred=dt.predict(X_test)\n",
    "\n",
    "dt_accuracy = accuracy_score(Y_test,dt_pred)\n",
    "print(\"Accuracy :\",dt_accuracy*100)"
   ]
  },
  {
   "cell_type": "markdown",
   "id": "8e41a161",
   "metadata": {},
   "source": [
    "<h4> *Performance Measure for DecisionTree Classifier"
   ]
  },
  {
   "cell_type": "code",
   "execution_count": 57,
   "id": "2ccef765",
   "metadata": {},
   "outputs": [
    {
     "name": "stdout",
     "output_type": "stream",
     "text": [
      "Confusion_Matrix: \n",
      " [[77421   633]\n",
      " [ 1998  2359]]\n",
      "Precision:  99.18902298408794\n",
      "Recall:  97.48422921467156\n",
      "F1-score:  98.32923739307692\n",
      "False Negative Score :  2.515770785328448\n"
     ]
    }
   ],
   "source": [
    "#Confusion Matrix\n",
    "dt_cm=confusion_matrix(Y_test,dt_pred)\n",
    "print(\"Confusion_Matrix: \\n\",dt_cm)\n",
    "\n",
    "#precision\n",
    "dt_prec=dt_cm[0][0]*100/(dt_cm[0][0]+dt_cm[0][1])\n",
    "print(\"Precision: \",dt_prec)\n",
    "\n",
    "#recall\n",
    "dt_rec=dt_cm[0][0]*100/(dt_cm[0][0]+dt_cm[1][0])\n",
    "print(\"Recall: \",dt_rec)\n",
    "\n",
    "#F1-score\n",
    "dt_f1=2*dt_prec*dt_rec/(dt_prec+dt_rec)\n",
    "print(\"F1-score: \",dt_f1)\n",
    "\n",
    "#False Negative Score\n",
    "dt_fns=rf_cm[1][0]*100/(dt_cm[0][0]+dt_cm[1][0])\n",
    "print(\"False Negative Score : \",dt_fns)"
   ]
  },
  {
   "cell_type": "markdown",
   "id": "696fdedc",
   "metadata": {},
   "source": [
    "<h3>3. Support Vector Machine"
   ]
  },
  {
   "cell_type": "code",
   "execution_count": 58,
   "id": "bfcff81a",
   "metadata": {},
   "outputs": [
    {
     "data": {
      "text/plain": [
       "SVC()"
      ]
     },
     "execution_count": 58,
     "metadata": {},
     "output_type": "execute_result"
    }
   ],
   "source": [
    "svc=SVC()\n",
    "svc.fit(X_train,Y_train)"
   ]
  },
  {
   "cell_type": "code",
   "execution_count": 59,
   "id": "1c3c09c3",
   "metadata": {},
   "outputs": [
    {
     "name": "stdout",
     "output_type": "stream",
     "text": [
      "Accuracy : 96.80746502287316\n"
     ]
    }
   ],
   "source": [
    "#prediction on dataset\n",
    "svc_pred = svc.predict(X_test)\n",
    "\n",
    "svc_accuracy=accuracy_score(Y_test,svc_pred)\n",
    "print(\"Accuracy :\",svc_accuracy*100)"
   ]
  },
  {
   "cell_type": "markdown",
   "id": "0fc70664",
   "metadata": {},
   "source": [
    "<h4>*Performance Measure for Support Vector MachineClassifier"
   ]
  },
  {
   "cell_type": "code",
   "execution_count": 60,
   "id": "a1a2db5e",
   "metadata": {},
   "outputs": [
    {
     "name": "stdout",
     "output_type": "stream",
     "text": [
      "Confusion_Matrix: \n",
      " [[77421   633]\n",
      " [ 1998  2359]]\n",
      "Precision:  99.17493017654445\n",
      "Recall:  97.49738655112914\n",
      "F1-score:  98.32900394408419\n",
      "False Negative Score :  2.5026134488708642\n"
     ]
    }
   ],
   "source": [
    "#Confusion Matrix\n",
    "svc_cm=confusion_matrix(Y_test,svc_pred)\n",
    "print(\"Confusion_Matrix: \\n\",dt_cm)\n",
    "\n",
    "#precision\n",
    "svc_prec=svc_cm[0][0]*100/(svc_cm[0][0]+svc_cm[0][1])\n",
    "print(\"Precision: \",svc_prec)\n",
    "\n",
    "#recall\n",
    "svc_rec=svc_cm[0][0]*100/(svc_cm[0][0]+svc_cm[1][0])\n",
    "print(\"Recall: \",svc_rec)\n",
    "\n",
    "#F1-score\n",
    "svc_f1=2*svc_prec*svc_rec/(svc_prec+svc_rec)\n",
    "print(\"F1-score: \",svc_f1)\n",
    "\n",
    "#False Negative Score\n",
    "svc_fns=svc_cm[1][0]*100/(svc_cm[0][0]+svc_cm[1][0])\n",
    "print(\"False Negative Score : \",svc_fns)"
   ]
  },
  {
   "cell_type": "markdown",
   "id": "41ea9ee9",
   "metadata": {},
   "source": [
    "<h3>4. Naive Bayes Classifier"
   ]
  },
  {
   "cell_type": "code",
   "execution_count": 61,
   "id": "11422735",
   "metadata": {},
   "outputs": [
    {
     "data": {
      "text/plain": [
       "GaussianNB()"
      ]
     },
     "execution_count": 61,
     "metadata": {},
     "output_type": "execute_result"
    }
   ],
   "source": [
    "nb = GaussianNB()\n",
    "nb.fit(X_train,Y_train)"
   ]
  },
  {
   "cell_type": "code",
   "execution_count": 62,
   "id": "015463fd",
   "metadata": {},
   "outputs": [
    {
     "name": "stdout",
     "output_type": "stream",
     "text": [
      "Accuracy : 93.78845057091894\n"
     ]
    }
   ],
   "source": [
    "#prediction on dataset\n",
    "nb_pred = nb.predict(X_test)\n",
    "\n",
    "nb_accuracy=accuracy_score(Y_test,nb_pred)\n",
    "print(\"Accuracy :\",nb_accuracy*100)"
   ]
  },
  {
   "cell_type": "markdown",
   "id": "5cf89b5d",
   "metadata": {},
   "source": [
    "<h4>*Performance Measure for Naive Bayes Classifier"
   ]
  },
  {
   "cell_type": "code",
   "execution_count": 63,
   "id": "ed1a8c4f",
   "metadata": {},
   "outputs": [
    {
     "name": "stdout",
     "output_type": "stream",
     "text": [
      "Confusion_Matrix: \n",
      " [[76069  1985]\n",
      " [ 3134  1223]]\n",
      "Precision:  97.45688882056012\n",
      "Recall:  96.04307917629383\n",
      "F1-score:  96.74481899056957\n",
      "False Negative Score :  3.956920823706173\n"
     ]
    }
   ],
   "source": [
    "#Confusion Matrix\n",
    "nb_cm=confusion_matrix(Y_test,nb_pred)\n",
    "print(\"Confusion_Matrix: \\n\",nb_cm)\n",
    "\n",
    "#precision\n",
    "nb_prec=nb_cm[0][0]*100/(nb_cm[0][0]+nb_cm[0][1])\n",
    "print(\"Precision: \",nb_prec)\n",
    "\n",
    "#recall\n",
    "nb_rec=nb_cm[0][0]*100/(nb_cm[0][0]+nb_cm[1][0])\n",
    "print(\"Recall: \",nb_rec)\n",
    "\n",
    "#F1-score\n",
    "nb_f1=2*nb_prec*nb_rec/(nb_prec+nb_rec)\n",
    "print(\"F1-score: \",nb_f1)\n",
    "\n",
    "#False Negative Score\n",
    "nb_fns=nb_cm[1][0]*100/(nb_cm[0][0]+nb_cm[1][0])\n",
    "print(\"False Negative Score : \",nb_fns)"
   ]
  },
  {
   "cell_type": "markdown",
   "id": "ffe03a4e",
   "metadata": {},
   "source": [
    "# Compare performance Visually"
   ]
  },
  {
   "cell_type": "markdown",
   "id": "6e35d1d7",
   "metadata": {},
   "source": [
    "AREA UNDER THE CURVE: \n",
    "The AUC-ROC curve, also known as the Receiver Operating Characteristic curve, is a graphical representation of the performance of a binary classification model. It illustrates the trade-off between the true positive rate (sensitivity) and the false positive rate (1-specificity) for different classification thresholds.\n",
    "\n",
    "The AUC value ranges from 0 to 1, where a higher value indicates better performance. An AUC of 0.5 implies random guessing, while an AUC of 1 signifies a perfect classifier."
   ]
  },
  {
   "cell_type": "code",
   "execution_count": 64,
   "id": "a7cec2e2",
   "metadata": {
    "scrolled": true
   },
   "outputs": [
    {
     "data": {
      "image/png": "[encoded data removed]",
      "text/plain": [
       "<Figure size 800x800 with 4 Axes>"
      ]
     },
     "metadata": {},
     "output_type": "display_data"
    }
   ],
   "source": [
    "import matplotlib.pyplot as plt\n",
    "\n",
    "# Create the figure and subplots\n",
    "fig, axs = plt.subplots(nrows=2, ncols=2, figsize=(8, 8))\n",
    "\n",
    "# AUC-ROC curve for RandomForest Classifier\n",
    "fpr, tpr, thresholds = roc_curve(Y_test, rf_pred)\n",
    "roc_auc = auc(fpr, tpr)\n",
    "axs[0, 0].plot(fpr, tpr, color='darkorange', lw=2, label='ROC curve (area = %0.2f)' % roc_auc)\n",
    "axs[0, 0].plot([0, 1], [0, 1], color='navy', lw=2, linestyle='--')\n",
    "axs[0, 0].set_xlabel('False Positive Rate')\n",
    "axs[0, 0].set_ylabel('True Positive Rate')\n",
    "axs[0, 0].set_title('RandomForest Classifier')\n",
    "axs[0, 0].legend(loc=\"lower right\")\n",
    "\n",
    "# AUC-ROC curve for Decision Tree Classifier\n",
    "fpr, tpr, thresholds = roc_curve(Y_test, dt_pred)\n",
    "roc_auc = auc(fpr, tpr)\n",
    "axs[0, 1].plot(fpr, tpr, color='darkorange', lw=2, label='ROC curve (area = %0.2f)' % roc_auc)\n",
    "axs[0, 1].plot([0, 1], [0, 1], color='navy', lw=2, linestyle='--')\n",
    "axs[0, 1].set_xlabel('False Positive Rate')\n",
    "axs[0, 1].set_ylabel('True Positive Rate')\n",
    "axs[0, 1].set_title('Decision Tree Classifier')\n",
    "axs[0, 1].legend(loc=\"lower right\")\n",
    "\n",
    "# AUC-ROC curve for SVM Classifier\n",
    "fpr, tpr, thresholds = roc_curve(Y_test, svc_pred)\n",
    "roc_auc = auc(fpr, tpr)\n",
    "axs[1, 0].plot(fpr, tpr, color='darkorange', lw=2, label='ROC curve (area = %0.2f)' % roc_auc)\n",
    "axs[1, 0].plot([0, 1], [0, 1], color='navy', lw=2, linestyle='--')\n",
    "axs[1, 0].set_xlabel('False Positive Rate')\n",
    "axs[1, 0].set_ylabel('True Positive Rate')\n",
    "axs[1, 0].set_title('SVM Classifier')\n",
    "axs[1, 0].legend(loc=\"lower right\")\n",
    "\n",
    "# AUC-ROC curve for Naive Bayes Classifier\n",
    "fpr, tpr, thresholds = roc_curve(Y_test, nb_pred)\n",
    "roc_auc = auc(fpr, tpr)\n",
    "axs[1, 1].plot(fpr, tpr, color='darkorange', lw=2, label='ROC curve (area = %0.2f)' % roc_auc)\n",
    "axs[1, 1].plot([0, 1], [0, 1], color='navy', lw=2, linestyle='--')\n",
    "axs[1, 1].set_xlabel('False Positive Rate')\n",
    "axs[1, 1].set_ylabel('True Positive Rate')\n",
    "axs[1, 1].set_title('Naive Bayes Classifier')\n",
    "axs[1, 1].legend(loc=\"lower right\")\n",
    "\n",
    "# Adjust spacing between subplots\n",
    "plt.tight_layout()\n",
    "\n",
    "# Display the figure\n",
    "plt.show()\n"
   ]
  },
  {
   "cell_type": "markdown",
   "id": "7d512a38",
   "metadata": {},
   "source": [
    "# Conlusion"
   ]
  },
  {
   "cell_type": "markdown",
   "id": "4bac0f73",
   "metadata": {},
   "source": [
    "Overall, the Random Forest classifier emerges as the recommended model for coronavirus prediction in this project, demonstrating its potential to contribute significantly to public health initiatives and decision-making processes in combating the spread of the virus."
   ]
  }
 ],
 "metadata": {
  "kernelspec": {
   "display_name": "Python 3 (ipykernel)",
   "language": "python",
   "name": "python3"
  },
  "language_info": {
   "codemirror_mode": {
    "name": "ipython",
    "version": 3
   },
   "file_extension": ".py",
   "mimetype": "text/x-python",
   "name": "python",
   "nbconvert_exporter": "python",
   "pygments_lexer": "ipython3",
   "version": "3.9.13"
  }
 },
 "nbformat": 4,
 "nbformat_minor": 5
}
